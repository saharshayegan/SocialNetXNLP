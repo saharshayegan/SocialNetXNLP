{
  "cells": [
    {
      "cell_type": "markdown",
      "metadata": {
        "id": "view-in-github",
        "colab_type": "text"
      },
      "source": [
        "<a href=\"https://colab.research.google.com/github/saharshayegan/SocialNetXNLP/blob/main/SocialNetXNLP.ipynb\" target=\"_parent\"><img src=\"https://colab.research.google.com/assets/colab-badge.svg\" alt=\"Open In Colab\"/></a>"
      ]
    },
    {
      "cell_type": "code",
      "execution_count": null,
      "metadata": {
        "id": "bl-RtfuSEtYM"
      },
      "outputs": [],
      "source": [
        "import networkx as nx"
      ]
    },
    {
      "cell_type": "code",
      "execution_count": null,
      "metadata": {
        "colab": {
          "base_uri": "https://localhost:8080/"
        },
        "id": "OSgjAhlCA0YI",
        "outputId": "a0c0cb0b-c81b-491d-9ad5-4d1c8b9abb97"
      },
      "outputs": [
        {
          "output_type": "stream",
          "name": "stdout",
          "text": [
            "Drive already mounted at /content/drive; to attempt to forcibly remount, call drive.mount(\"/content/drive\", force_remount=True).\n"
          ]
        }
      ],
      "source": [
        "from google.colab import drive\n",
        "drive.mount('/content/drive')"
      ]
    },
    {
      "cell_type": "code",
      "execution_count": null,
      "metadata": {
        "id": "V_EL6l5vFFMA"
      },
      "outputs": [],
      "source": [
        "import pickle\n",
        "with open(\"/content/drive/MyDrive/twitter-April20/sahar_following_data-20220420\", \"rb\") as fp:   # Unpickling\n",
        "  sahar = pickle.load(fp)"
      ]
    },
    {
      "cell_type": "markdown",
      "metadata": {
        "id": "ZQp_SBIDwzqg"
      },
      "source": [
        "# Load and vectorize the tweets of my friends\n",
        "### **DO NOT RUN**"
      ]
    },
    {
      "cell_type": "code",
      "execution_count": null,
      "metadata": {
        "id": "YIab0x8Jw4PY"
      },
      "outputs": [],
      "source": [
        "import pandas as pd"
      ]
    },
    {
      "cell_type": "code",
      "execution_count": null,
      "metadata": {
        "id": "EPnU0H58BiED"
      },
      "outputs": [],
      "source": [
        "maanenaa = '2582056045'\n",
        "if maanenaa not in sahar:\n",
        "  sahar.append(maanenaa)"
      ]
    },
    {
      "cell_type": "code",
      "execution_count": null,
      "metadata": {
        "colab": {
          "base_uri": "https://localhost:8080/"
        },
        "id": "tU-6VBN4xLNt",
        "outputId": "bdef7331-ef4e-4e2e-8634-053876b83ef8"
      },
      "outputs": [
        {
          "name": "stderr",
          "output_type": "stream",
          "text": [
            "/usr/local/lib/python3.7/dist-packages/IPython/core/interactiveshell.py:2882: DtypeWarning: Columns (1,2,5,6,7,8,10,11,13,14) have mixed types.Specify dtype option on import or set low_memory=False.\n",
            "  exec(code_obj, self.user_global_ns, self.user_ns)\n"
          ]
        }
      ],
      "source": [
        "df = pd.read_csv('/content/drive/MyDrive/Colab Notebooks/dec2021tweets.csv')\n",
        "df2 =pd.read_csv('/content/drive/MyDrive/Colab Notebooks/nov2021tweets.csv')"
      ]
    },
    {
      "cell_type": "code",
      "execution_count": null,
      "metadata": {
        "id": "ItByiid6xbB5"
      },
      "outputs": [],
      "source": [
        "df= df.loc[df.apply(lambda x: x.user_id in sahar, axis=1)]\n",
        "df2= df2.loc[df2.apply(lambda x: x.user_id in sahar, axis=1)]"
      ]
    },
    {
      "cell_type": "code",
      "execution_count": null,
      "metadata": {
        "id": "i4JCSkyi-pz1"
      },
      "outputs": [],
      "source": [
        "df3 = pd.read_csv('/content/drive/MyDrive/Colab Notebooks/oct2021tweets.csv')\n",
        "df4 = pd.read_csv('/content/drive/MyDrive/Colab Notebooks/sep2021tweets.csv')"
      ]
    },
    {
      "cell_type": "code",
      "execution_count": null,
      "metadata": {
        "id": "QvpJ8Pc4-zBJ"
      },
      "outputs": [],
      "source": [
        "df3= df3.loc[df3.apply(lambda x: x.user_id in sahar, axis=1)]\n",
        "df4= df4.loc[df4.apply(lambda x: x.user_id in sahar, axis=1)]"
      ]
    },
    {
      "cell_type": "code",
      "execution_count": null,
      "metadata": {
        "id": "_OguzD4W9pyV"
      },
      "outputs": [],
      "source": [
        "filtered = pd.concat([df, df2, df3, df4])"
      ]
    },
    {
      "cell_type": "code",
      "execution_count": null,
      "metadata": {
        "id": "sNR2Kv7TCSsn"
      },
      "outputs": [],
      "source": [
        "del df\n",
        "del df2\n",
        "del df3\n",
        "del df4"
      ]
    },
    {
      "cell_type": "code",
      "execution_count": null,
      "metadata": {
        "colab": {
          "base_uri": "https://localhost:8080/"
        },
        "id": "7v637DUE9b9Y",
        "outputId": "f7645076-d532-4d2b-893c-c8d6ab3c9363"
      },
      "outputs": [
        {
          "data": {
            "text/plain": [
              "(15249, 18)"
            ]
          },
          "execution_count": 12,
          "metadata": {},
          "output_type": "execute_result"
        }
      ],
      "source": [
        "filtered.shape"
      ]
    },
    {
      "cell_type": "code",
      "execution_count": null,
      "metadata": {
        "colab": {
          "base_uri": "https://localhost:8080/"
        },
        "id": "La-sBrVXOaCP",
        "outputId": "99ce2105-4ec5-4afd-ecf5-9129cc3fa17a"
      },
      "outputs": [
        {
          "data": {
            "text/plain": [
              "Index(['language', 'conversation_id', 'retweets_count', 'mentions',\n",
              "       'created_at', 'likes_count', 'possibly_sensitive',\n",
              "       'in_reply_to_user_id', '_id', 'source', 'user_id',\n",
              "       'in_reply_to_status_id', 'tweet', 'replies_count', 'quoted_status_id',\n",
              "       'hashtags', 'cashtags', 'urls'],\n",
              "      dtype='object')"
            ]
          },
          "execution_count": 13,
          "metadata": {},
          "output_type": "execute_result"
        }
      ],
      "source": [
        "filtered.columns"
      ]
    },
    {
      "cell_type": "code",
      "execution_count": null,
      "metadata": {
        "id": "SvJQBh6u4DB0"
      },
      "outputs": [],
      "source": [
        "uniques = filtered['user_id'].unique()"
      ]
    },
    {
      "cell_type": "code",
      "execution_count": null,
      "metadata": {
        "colab": {
          "base_uri": "https://localhost:8080/"
        },
        "id": "yFPfRP1oOAzU",
        "outputId": "1d13913d-1a72-42d5-ae8c-a58fc7d66be8"
      },
      "outputs": [
        {
          "data": {
            "text/plain": [
              "481"
            ]
          },
          "execution_count": 15,
          "metadata": {},
          "output_type": "execute_result"
        }
      ],
      "source": [
        "len(uniques)"
      ]
    },
    {
      "cell_type": "code",
      "execution_count": null,
      "metadata": {
        "id": "QTL9101pf2Fu"
      },
      "outputs": [],
      "source": [
        "import pickle\n",
        "pickle_out = open(\"/content/drive/MyDrive/twitter-April20/uniques.pickle\", \"wb\")\n",
        "pickle.dump(uniques, pickle_out)\n",
        "pickle_out.close()"
      ]
    },
    {
      "cell_type": "code",
      "execution_count": null,
      "metadata": {
        "id": "aP5v2SzdOPaU"
      },
      "outputs": [],
      "source": [
        "from sklearn.feature_extraction.text import TfidfVectorizer\n",
        "v = TfidfVectorizer()"
      ]
    },
    {
      "cell_type": "code",
      "execution_count": null,
      "metadata": {
        "id": "GmT_vsaEfles"
      },
      "outputs": [],
      "source": [
        "x = v.fit_transform(filtered['tweet'])"
      ]
    },
    {
      "cell_type": "code",
      "execution_count": null,
      "metadata": {
        "id": "9fmwRhaNOh0J"
      },
      "outputs": [],
      "source": [
        "arr = x.toarray()"
      ]
    },
    {
      "cell_type": "code",
      "execution_count": null,
      "metadata": {
        "id": "1__JzjxmnR-p"
      },
      "outputs": [],
      "source": [
        "del x"
      ]
    },
    {
      "cell_type": "code",
      "execution_count": null,
      "metadata": {
        "colab": {
          "base_uri": "https://localhost:8080/"
        },
        "id": "kd4Ju7ZbkP51",
        "outputId": "e2b3b37a-9d32-41fe-e5c1-0b7b046227de"
      },
      "outputs": [
        {
          "data": {
            "text/plain": [
              "30470"
            ]
          },
          "execution_count": 21,
          "metadata": {},
          "output_type": "execute_result"
        }
      ],
      "source": [
        "len(arr[0])"
      ]
    },
    {
      "cell_type": "code",
      "execution_count": null,
      "metadata": {
        "colab": {
          "base_uri": "https://localhost:8080/"
        },
        "id": "caxRRudXvaKy",
        "outputId": "52fdc8f0-1cf4-4b69-bd00-ac4c4bc7f4a6"
      },
      "outputs": [
        {
          "data": {
            "text/plain": [
              "15249"
            ]
          },
          "execution_count": 22,
          "metadata": {},
          "output_type": "execute_result"
        }
      ],
      "source": [
        "len(arr)"
      ]
    },
    {
      "cell_type": "markdown",
      "metadata": {
        "id": "BxXSklbLk41F"
      },
      "source": [
        "# Find the tweets of each user and get the sum of their vectors\n",
        "### **DO NOT RUN**"
      ]
    },
    {
      "cell_type": "code",
      "execution_count": null,
      "metadata": {
        "id": "pQEFdzwFqvQQ"
      },
      "outputs": [],
      "source": [
        "filtered = filtered.reset_index(level=0)"
      ]
    },
    {
      "cell_type": "code",
      "execution_count": null,
      "metadata": {
        "colab": {
          "base_uri": "https://localhost:8080/"
        },
        "id": "GHnXcW7GpqMl",
        "outputId": "52a58157-4b36-4045-b8ab-5da6a96d6c25"
      },
      "outputs": [
        {
          "name": "stdout",
          "output_type": "stream",
          "text": [
            "0 1 "
          ]
        },
        {
          "name": "stderr",
          "output_type": "stream",
          "text": [
            "/usr/local/lib/python3.7/dist-packages/ipykernel_launcher.py:11: RuntimeWarning: invalid value encountered in true_divide\n",
            "  # This is added back by InteractiveShellApp.init_path()\n"
          ]
        },
        {
          "name": "stdout",
          "output_type": "stream",
          "text": [
            "2 3 4 5 6 7 8 9 10 11 12 13 14 15 16 17 18 19 20 21 22 23 24 25 26 27 28 29 30 31 32 33 34 35 36 37 38 39 40 41 42 43 44 45 46 47 48 49 50 51 52 53 54 55 56 57 58 59 60 61 62 63 64 65 66 67 68 69 70 71 72 73 74 75 76 77 78 79 80 81 82 83 84 85 86 87 88 89 90 91 92 93 94 95 96 97 98 99 100 101 102 103 104 105 106 107 108 109 110 111 112 113 114 115 116 117 118 119 120 121 122 123 124 125 126 127 128 129 130 131 132 133 134 135 136 137 138 139 140 141 142 143 144 145 146 147 148 149 150 151 152 153 154 155 156 157 158 159 160 161 162 163 164 165 166 167 168 169 170 171 172 173 174 175 176 177 178 179 180 181 182 183 184 185 186 187 188 189 190 191 192 193 194 195 196 197 198 199 200 201 202 203 204 205 206 207 208 209 210 211 212 213 214 215 216 217 218 219 220 221 222 223 224 225 226 227 228 229 230 231 232 233 234 235 236 237 238 239 240 241 242 243 244 245 246 247 248 249 250 251 252 253 254 255 256 257 258 259 260 261 262 263 264 265 266 267 268 269 270 271 272 273 274 275 276 277 278 279 280 281 282 283 284 285 286 287 288 289 290 291 292 293 294 295 296 297 298 299 300 301 302 303 304 305 306 307 308 309 310 311 312 313 314 315 316 317 318 319 320 321 322 323 324 325 326 327 328 329 330 331 332 333 334 335 336 337 338 339 340 341 342 343 344 345 346 347 348 349 350 351 352 353 354 355 356 357 358 359 360 361 362 363 364 365 366 367 368 369 370 371 372 373 374 375 376 377 378 379 380 381 382 383 384 385 386 387 388 389 390 391 392 393 394 395 396 397 398 399 400 401 402 403 404 405 406 407 408 409 410 411 412 413 414 415 416 417 418 419 420 421 422 423 424 425 426 427 428 429 430 431 432 433 434 435 436 437 438 439 440 441 442 443 444 445 446 447 448 449 450 451 452 453 454 455 456 457 458 459 460 461 462 463 464 465 466 467 468 469 470 471 472 473 474 475 476 477 478 479 480 481 482 483 484 485 486 487 488 489 490 491 492 493 494 495 496 497 498 499 500 501 502 503 504 505 506 507 508 509 510 511 512 513 514 515 516 517 518 519 520 521 522 523 524 525 526 527 528 529 530 531 532 533 534 535 536 537 538 539 540 541 542 543 544 545 546 547 548 549 550 551 552 553 554 555 556 557 558 559 560 561 562 563 564 565 566 567 568 569 570 571 572 573 574 575 576 577 578 579 580 581 582 583 584 585 586 587 588 589 590 591 592 593 594 595 596 597 598 599 600 601 602 603 604 605 606 607 608 609 610 611 612 613 614 615 616 617 618 619 620 621 622 623 624 625 626 627 628 629 630 631 632 633 634 635 636 637 638 639 640 641 642 643 644 645 646 647 648 649 650 651 652 653 654 655 656 657 658 659 660 661 662 663 664 665 666 667 668 669 670 671 672 673 674 675 676 677 678 679 680 681 682 683 684 685 686 687 688 689 690 691 692 693 694 695 696 697 698 "
          ]
        }
      ],
      "source": [
        "import numpy as np\n",
        "user_vec = pd.DataFrame(columns=['user_id','vector'])\n",
        "counter= 0\n",
        "for id in sahar:\n",
        "  print(counter, end=' ')\n",
        "  counter+=1\n",
        "  indices = (filtered.loc[filtered.apply(lambda x: x.user_id == id, axis=1)].reset_index(level=0))['level_0']\n",
        "  vec_sum = np.zeros((1,len(arr[0])))\n",
        "  for i in indices:\n",
        "    vec_sum += arr[i]\n",
        "  dic = {'user_id':id, 'vector':vec_sum/len(indices)}\n",
        "  user_vec = user_vec.append(dic, ignore_index = True)"
      ]
    },
    {
      "cell_type": "code",
      "execution_count": null,
      "metadata": {
        "id": "RVr0CIoKK8_-"
      },
      "outputs": [],
      "source": [
        "del vec_sum"
      ]
    },
    {
      "cell_type": "code",
      "execution_count": null,
      "metadata": {
        "id": "V7faag6squUA"
      },
      "outputs": [],
      "source": [
        "# vec_sum"
      ]
    },
    {
      "cell_type": "code",
      "execution_count": null,
      "metadata": {
        "colab": {
          "base_uri": "https://localhost:8080/",
          "height": 224
        },
        "id": "nx-5lQVvDsNA",
        "outputId": "d3870a06-3c32-48f5-d0b5-907c8f028f18"
      },
      "outputs": [
        {
          "name": "stdout",
          "output_type": "stream",
          "text": [
            "(699, 2)\n"
          ]
        },
        {
          "data": {
            "text/html": [
              "\n",
              "  <div id=\"df-aa84b41c-9a0a-4894-b551-854d387d5727\">\n",
              "    <div class=\"colab-df-container\">\n",
              "      <div>\n",
              "<style scoped>\n",
              "    .dataframe tbody tr th:only-of-type {\n",
              "        vertical-align: middle;\n",
              "    }\n",
              "\n",
              "    .dataframe tbody tr th {\n",
              "        vertical-align: top;\n",
              "    }\n",
              "\n",
              "    .dataframe thead th {\n",
              "        text-align: right;\n",
              "    }\n",
              "</style>\n",
              "<table border=\"1\" class=\"dataframe\">\n",
              "  <thead>\n",
              "    <tr style=\"text-align: right;\">\n",
              "      <th></th>\n",
              "      <th>user_id</th>\n",
              "      <th>vector</th>\n",
              "    </tr>\n",
              "  </thead>\n",
              "  <tbody>\n",
              "    <tr>\n",
              "      <th>0</th>\n",
              "      <td>865981751444852736</td>\n",
              "      <td>[[0.0, 0.0, 0.0, 0.0, 0.0, 0.0, 0.0, 0.0, 0.0,...</td>\n",
              "    </tr>\n",
              "    <tr>\n",
              "      <th>1</th>\n",
              "      <td>724963088286502912</td>\n",
              "      <td>[[nan, nan, nan, nan, nan, nan, nan, nan, nan,...</td>\n",
              "    </tr>\n",
              "    <tr>\n",
              "      <th>2</th>\n",
              "      <td>1020607462804795393</td>\n",
              "      <td>[[0.0, 0.0, 0.0, 0.0, 0.0, 0.0, 0.0, 0.0, 0.0,...</td>\n",
              "    </tr>\n",
              "    <tr>\n",
              "      <th>3</th>\n",
              "      <td>1339288641789628422</td>\n",
              "      <td>[[0.0, 0.0, 0.0, 0.0, 0.0, 0.0, 0.0, 0.0, 0.0,...</td>\n",
              "    </tr>\n",
              "    <tr>\n",
              "      <th>4</th>\n",
              "      <td>868167946505474050</td>\n",
              "      <td>[[nan, nan, nan, nan, nan, nan, nan, nan, nan,...</td>\n",
              "    </tr>\n",
              "  </tbody>\n",
              "</table>\n",
              "</div>\n",
              "      <button class=\"colab-df-convert\" onclick=\"convertToInteractive('df-aa84b41c-9a0a-4894-b551-854d387d5727')\"\n",
              "              title=\"Convert this dataframe to an interactive table.\"\n",
              "              style=\"display:none;\">\n",
              "        \n",
              "  <svg xmlns=\"http://www.w3.org/2000/svg\" height=\"24px\"viewBox=\"0 0 24 24\"\n",
              "       width=\"24px\">\n",
              "    <path d=\"M0 0h24v24H0V0z\" fill=\"none\"/>\n",
              "    <path d=\"M18.56 5.44l.94 2.06.94-2.06 2.06-.94-2.06-.94-.94-2.06-.94 2.06-2.06.94zm-11 1L8.5 8.5l.94-2.06 2.06-.94-2.06-.94L8.5 2.5l-.94 2.06-2.06.94zm10 10l.94 2.06.94-2.06 2.06-.94-2.06-.94-.94-2.06-.94 2.06-2.06.94z\"/><path d=\"M17.41 7.96l-1.37-1.37c-.4-.4-.92-.59-1.43-.59-.52 0-1.04.2-1.43.59L10.3 9.45l-7.72 7.72c-.78.78-.78 2.05 0 2.83L4 21.41c.39.39.9.59 1.41.59.51 0 1.02-.2 1.41-.59l7.78-7.78 2.81-2.81c.8-.78.8-2.07 0-2.86zM5.41 20L4 18.59l7.72-7.72 1.47 1.35L5.41 20z\"/>\n",
              "  </svg>\n",
              "      </button>\n",
              "      \n",
              "  <style>\n",
              "    .colab-df-container {\n",
              "      display:flex;\n",
              "      flex-wrap:wrap;\n",
              "      gap: 12px;\n",
              "    }\n",
              "\n",
              "    .colab-df-convert {\n",
              "      background-color: #E8F0FE;\n",
              "      border: none;\n",
              "      border-radius: 50%;\n",
              "      cursor: pointer;\n",
              "      display: none;\n",
              "      fill: #1967D2;\n",
              "      height: 32px;\n",
              "      padding: 0 0 0 0;\n",
              "      width: 32px;\n",
              "    }\n",
              "\n",
              "    .colab-df-convert:hover {\n",
              "      background-color: #E2EBFA;\n",
              "      box-shadow: 0px 1px 2px rgba(60, 64, 67, 0.3), 0px 1px 3px 1px rgba(60, 64, 67, 0.15);\n",
              "      fill: #174EA6;\n",
              "    }\n",
              "\n",
              "    [theme=dark] .colab-df-convert {\n",
              "      background-color: #3B4455;\n",
              "      fill: #D2E3FC;\n",
              "    }\n",
              "\n",
              "    [theme=dark] .colab-df-convert:hover {\n",
              "      background-color: #434B5C;\n",
              "      box-shadow: 0px 1px 3px 1px rgba(0, 0, 0, 0.15);\n",
              "      filter: drop-shadow(0px 1px 2px rgba(0, 0, 0, 0.3));\n",
              "      fill: #FFFFFF;\n",
              "    }\n",
              "  </style>\n",
              "\n",
              "      <script>\n",
              "        const buttonEl =\n",
              "          document.querySelector('#df-aa84b41c-9a0a-4894-b551-854d387d5727 button.colab-df-convert');\n",
              "        buttonEl.style.display =\n",
              "          google.colab.kernel.accessAllowed ? 'block' : 'none';\n",
              "\n",
              "        async function convertToInteractive(key) {\n",
              "          const element = document.querySelector('#df-aa84b41c-9a0a-4894-b551-854d387d5727');\n",
              "          const dataTable =\n",
              "            await google.colab.kernel.invokeFunction('convertToInteractive',\n",
              "                                                     [key], {});\n",
              "          if (!dataTable) return;\n",
              "\n",
              "          const docLinkHtml = 'Like what you see? Visit the ' +\n",
              "            '<a target=\"_blank\" href=https://colab.research.google.com/notebooks/data_table.ipynb>data table notebook</a>'\n",
              "            + ' to learn more about interactive tables.';\n",
              "          element.innerHTML = '';\n",
              "          dataTable['output_type'] = 'display_data';\n",
              "          await google.colab.output.renderOutput(dataTable, element);\n",
              "          const docLink = document.createElement('div');\n",
              "          docLink.innerHTML = docLinkHtml;\n",
              "          element.appendChild(docLink);\n",
              "        }\n",
              "      </script>\n",
              "    </div>\n",
              "  </div>\n",
              "  "
            ],
            "text/plain": [
              "               user_id                                             vector\n",
              "0   865981751444852736  [[0.0, 0.0, 0.0, 0.0, 0.0, 0.0, 0.0, 0.0, 0.0,...\n",
              "1   724963088286502912  [[nan, nan, nan, nan, nan, nan, nan, nan, nan,...\n",
              "2  1020607462804795393  [[0.0, 0.0, 0.0, 0.0, 0.0, 0.0, 0.0, 0.0, 0.0,...\n",
              "3  1339288641789628422  [[0.0, 0.0, 0.0, 0.0, 0.0, 0.0, 0.0, 0.0, 0.0,...\n",
              "4   868167946505474050  [[nan, nan, nan, nan, nan, nan, nan, nan, nan,..."
            ]
          },
          "execution_count": 31,
          "metadata": {},
          "output_type": "execute_result"
        }
      ],
      "source": [
        "print(user_vec.shape)\n",
        "user_vec.head()"
      ]
    },
    {
      "cell_type": "code",
      "execution_count": null,
      "metadata": {
        "colab": {
          "base_uri": "https://localhost:8080/"
        },
        "id": "DsgJ46SH81QO",
        "outputId": "77d18da5-56bc-4ea3-f4d3-ae00d8ede7ae"
      },
      "outputs": [
        {
          "name": "stdout",
          "output_type": "stream",
          "text": [
            "0 2 3 11 12 13 14 16 19 20 23 24 25 26 27 29 30 31 33 34 35 37 38 41 44 45 48 53 57 58 59 60 62 64 65 67 68 69 71 72 73 74 75 76 77 78 79 82 83 84 86 87 88 89 90 92 93 94 95 96 97 98 99 100 102 103 104 106 109 110 111 112 113 114 116 117 118 119 120 121 122 124 125 126 127 128 131 132 135 136 138 139 140 141 142 143 144 145 146 147 148 149 150 152 153 154 155 158 160 162 163 164 165 168 169 170 171 172 173 174 175 176 177 178 180 181 182 183 185 186 187 188 190 191 192 193 194 195 196 198 199 200 203 204 205 206 207 208 209 210 211 212 213 215 216 217 218 219 220 223 224 225 226 229 230 232 233 234 237 238 239 240 241 242 245 246 247 251 252 254 257 258 259 261 262 264 265 266 267 268 270 271 272 273 274 276 277 278 280 281 282 283 284 285 286 287 288 289 290 291 292 293 294 295 296 298 299 300 304 305 306 307 308 309 310 312 313 314 315 318 319 321 322 323 324 325 326 327 328 329 331 332 334 335 339 340 341 342 343 344 345 346 347 348 350 351 352 353 355 356 357 359 360 361 362 363 364 366 368 371 372 373 374 376 378 379 380 382 383 385 386 389 390 391 392 393 394 396 398 399 401 402 404 405 406 407 412 414 415 416 417 418 419 420 421 422 423 424 426 427 429 430 431 432 434 435 438 439 440 442 443 444 445 446 447 448 449 450 451 452 456 458 459 460 461 464 465 466 468 469 471 472 473 474 475 476 477 479 481 483 484 485 486 487 488 489 492 493 496 497 498 499 500 501 502 503 504 505 507 509 510 512 513 514 515 517 518 520 521 523 525 527 528 529 530 531 535 538 539 541 543 547 548 549 550 551 554 555 559 561 563 564 565 567 568 569 570 572 574 575 576 579 580 581 582 588 593 594 596 598 599 601 604 605 606 609 610 612 613 615 616 618 619 621 622 624 626 627 628 630 631 632 633 634 635 637 638 640 641 643 644 645 646 647 649 650 651 652 654 655 658 661 663 664 666 667 673 675 676 677 680 681 682 683 685 686 688 691 692 694 695 "
          ]
        }
      ],
      "source": [
        "# Instead of 'sahar' I should have used 'uniques'\n",
        "# and checked in each loop if user_id is in 'uniques'\n",
        "# because I have no tweets from the ones that are not in uniques\n",
        "import string\n",
        "from scipy.spatial import distance\n",
        "\n",
        "# distance.euclidean(arr[0], arr[1])\n",
        "cols = ['index'].extend(uniques)\n",
        "df_ids = pd.DataFrame(columns=cols)\n",
        "# df_ids['index'] = df_ids['index'].astype('str')\n",
        "for index, row in user_vec.iterrows():\n",
        "\n",
        "  if row['user_id'] in uniques:\n",
        "    dist_dict = {}\n",
        "    dist_dict['index']=str(row['user_id'])\n",
        "    # print(row['user_id'])\n",
        "\n",
        "    for ind, ro in user_vec.iterrows():\n",
        "\n",
        "      # if ind > index and ro['user_id'] in uniques:\n",
        "      if ro['user_id'] in uniques:\n",
        "\n",
        "        if not np.isnan(row['vector']).any() and not np.isnan(ro['vector']).any():\n",
        "          dist_dict[ro['user_id']] = distance.euclidean(row['vector'], ro['vector'])\n",
        "\n",
        "    # print(dist_dict['index'])\n",
        "    df_ids = df_ids.append(dist_dict, ignore_index = True)\n",
        "    # print(df_ids['index'])\n",
        "    # print('added {}'.format(row['user_id']))\n",
        "    print(index, end=' ')\n"
      ]
    },
    {
      "cell_type": "code",
      "execution_count": null,
      "metadata": {
        "id": "emJIBN-UjjZC"
      },
      "outputs": [],
      "source": [
        "# Want to sort the df columns so that the matrix is symmetric\n",
        "sorting_list = ['index']\n",
        "for i, row in user_vec.iterrows():\n",
        "  if(row['user_id'] in uniques):\n",
        "    sorting_list.append(row['user_id'])\n",
        "\n",
        "df_ids = df_ids[sorting_list]"
      ]
    },
    {
      "cell_type": "code",
      "execution_count": null,
      "metadata": {
        "id": "abM4nArkC33U"
      },
      "outputs": [],
      "source": [
        "# df_ids.columns"
      ]
    },
    {
      "cell_type": "code",
      "execution_count": null,
      "metadata": {
        "id": "2kwlc_NDD1Xp"
      },
      "outputs": [],
      "source": [
        "df_ids['min'] = (df_ids[uniques])[df_ids[uniques]>0].idxmin(axis=1)"
      ]
    },
    {
      "cell_type": "code",
      "execution_count": null,
      "metadata": {
        "id": "ukGnPLo8-POB"
      },
      "outputs": [],
      "source": [
        "# Moving the 'id' column to the begining\n",
        "column_to_move = df_ids.pop(\"min\")\n",
        "# insert column with insert(location, column_name, column_value)\n",
        "df_ids.insert(1, \"min\", column_to_move)"
      ]
    },
    {
      "cell_type": "code",
      "execution_count": null,
      "metadata": {
        "colab": {
          "base_uri": "https://localhost:8080/",
          "height": 488
        },
        "id": "ZNMvRT6zwOko",
        "outputId": "059e2d0f-ec5c-4617-89ae-da38ed3027ad"
      },
      "outputs": [
        {
          "data": {
            "text/html": [
              "\n",
              "  <div id=\"df-4071c2cd-2877-4cf5-86ed-9db49547b75c\">\n",
              "    <div class=\"colab-df-container\">\n",
              "      <div>\n",
              "<style scoped>\n",
              "    .dataframe tbody tr th:only-of-type {\n",
              "        vertical-align: middle;\n",
              "    }\n",
              "\n",
              "    .dataframe tbody tr th {\n",
              "        vertical-align: top;\n",
              "    }\n",
              "\n",
              "    .dataframe thead th {\n",
              "        text-align: right;\n",
              "    }\n",
              "</style>\n",
              "<table border=\"1\" class=\"dataframe\">\n",
              "  <thead>\n",
              "    <tr style=\"text-align: right;\">\n",
              "      <th></th>\n",
              "      <th>index</th>\n",
              "      <th>min</th>\n",
              "      <th>865981751444852736</th>\n",
              "      <th>1020607462804795393</th>\n",
              "      <th>1339288641789628422</th>\n",
              "      <th>1266258111397912576</th>\n",
              "      <th>1030026976164229120</th>\n",
              "      <th>1201169360485830657</th>\n",
              "      <th>359022772</th>\n",
              "      <th>1034137009189732352</th>\n",
              "      <th>...</th>\n",
              "      <th>1646169098</th>\n",
              "      <th>862760815920902144</th>\n",
              "      <th>861653502946398208</th>\n",
              "      <th>630199052</th>\n",
              "      <th>754826845875539968</th>\n",
              "      <th>4839508725</th>\n",
              "      <th>4906563567</th>\n",
              "      <th>4835841857</th>\n",
              "      <th>1638277826</th>\n",
              "      <th>573843309</th>\n",
              "    </tr>\n",
              "  </thead>\n",
              "  <tbody>\n",
              "    <tr>\n",
              "      <th>0</th>\n",
              "      <td>865981751444852736</td>\n",
              "      <td>966776088834838532</td>\n",
              "      <td>0.000000</td>\n",
              "      <td>0.143907</td>\n",
              "      <td>0.154669</td>\n",
              "      <td>0.247514</td>\n",
              "      <td>0.197173</td>\n",
              "      <td>0.300360</td>\n",
              "      <td>0.418881</td>\n",
              "      <td>0.298491</td>\n",
              "      <td>...</td>\n",
              "      <td>0.265528</td>\n",
              "      <td>0.166327</td>\n",
              "      <td>0.318253</td>\n",
              "      <td>0.303903</td>\n",
              "      <td>0.163981</td>\n",
              "      <td>0.237580</td>\n",
              "      <td>0.306843</td>\n",
              "      <td>0.460222</td>\n",
              "      <td>0.444726</td>\n",
              "      <td>0.990609</td>\n",
              "    </tr>\n",
              "    <tr>\n",
              "      <th>1</th>\n",
              "      <td>1020607462804795393</td>\n",
              "      <td>756623112528068609</td>\n",
              "      <td>0.143907</td>\n",
              "      <td>0.000000</td>\n",
              "      <td>0.145358</td>\n",
              "      <td>0.236877</td>\n",
              "      <td>0.192780</td>\n",
              "      <td>0.293122</td>\n",
              "      <td>0.420982</td>\n",
              "      <td>0.292316</td>\n",
              "      <td>...</td>\n",
              "      <td>0.263943</td>\n",
              "      <td>0.154567</td>\n",
              "      <td>0.313572</td>\n",
              "      <td>0.296239</td>\n",
              "      <td>0.155618</td>\n",
              "      <td>0.229001</td>\n",
              "      <td>0.298643</td>\n",
              "      <td>0.458855</td>\n",
              "      <td>0.443523</td>\n",
              "      <td>0.982092</td>\n",
              "    </tr>\n",
              "    <tr>\n",
              "      <th>2</th>\n",
              "      <td>1339288641789628422</td>\n",
              "      <td>853662554492735488</td>\n",
              "      <td>0.154669</td>\n",
              "      <td>0.145358</td>\n",
              "      <td>0.000000</td>\n",
              "      <td>0.240840</td>\n",
              "      <td>0.195516</td>\n",
              "      <td>0.296730</td>\n",
              "      <td>0.415807</td>\n",
              "      <td>0.295963</td>\n",
              "      <td>...</td>\n",
              "      <td>0.267769</td>\n",
              "      <td>0.167511</td>\n",
              "      <td>0.318144</td>\n",
              "      <td>0.298318</td>\n",
              "      <td>0.161715</td>\n",
              "      <td>0.234322</td>\n",
              "      <td>0.303546</td>\n",
              "      <td>0.460453</td>\n",
              "      <td>0.444838</td>\n",
              "      <td>0.989666</td>\n",
              "    </tr>\n",
              "    <tr>\n",
              "      <th>3</th>\n",
              "      <td>1266258111397912576</td>\n",
              "      <td>1279858901492666369</td>\n",
              "      <td>0.247514</td>\n",
              "      <td>0.236877</td>\n",
              "      <td>0.240840</td>\n",
              "      <td>0.000000</td>\n",
              "      <td>0.261939</td>\n",
              "      <td>0.349277</td>\n",
              "      <td>0.453654</td>\n",
              "      <td>0.349937</td>\n",
              "      <td>...</td>\n",
              "      <td>0.321840</td>\n",
              "      <td>0.250102</td>\n",
              "      <td>0.371559</td>\n",
              "      <td>0.344108</td>\n",
              "      <td>0.228180</td>\n",
              "      <td>0.263531</td>\n",
              "      <td>0.331490</td>\n",
              "      <td>0.492757</td>\n",
              "      <td>0.458982</td>\n",
              "      <td>1.013760</td>\n",
              "    </tr>\n",
              "    <tr>\n",
              "      <th>4</th>\n",
              "      <td>1030026976164229120</td>\n",
              "      <td>756623112528068609</td>\n",
              "      <td>0.197173</td>\n",
              "      <td>0.192780</td>\n",
              "      <td>0.195516</td>\n",
              "      <td>0.261939</td>\n",
              "      <td>0.000000</td>\n",
              "      <td>0.318324</td>\n",
              "      <td>0.438012</td>\n",
              "      <td>0.319803</td>\n",
              "      <td>...</td>\n",
              "      <td>0.298517</td>\n",
              "      <td>0.205941</td>\n",
              "      <td>0.341818</td>\n",
              "      <td>0.322835</td>\n",
              "      <td>0.185181</td>\n",
              "      <td>0.249651</td>\n",
              "      <td>0.322161</td>\n",
              "      <td>0.475302</td>\n",
              "      <td>0.448825</td>\n",
              "      <td>1.004391</td>\n",
              "    </tr>\n",
              "    <tr>\n",
              "      <th>...</th>\n",
              "      <td>...</td>\n",
              "      <td>...</td>\n",
              "      <td>...</td>\n",
              "      <td>...</td>\n",
              "      <td>...</td>\n",
              "      <td>...</td>\n",
              "      <td>...</td>\n",
              "      <td>...</td>\n",
              "      <td>...</td>\n",
              "      <td>...</td>\n",
              "      <td>...</td>\n",
              "      <td>...</td>\n",
              "      <td>...</td>\n",
              "      <td>...</td>\n",
              "      <td>...</td>\n",
              "      <td>...</td>\n",
              "      <td>...</td>\n",
              "      <td>...</td>\n",
              "      <td>...</td>\n",
              "      <td>...</td>\n",
              "      <td>...</td>\n",
              "    </tr>\n",
              "    <tr>\n",
              "      <th>476</th>\n",
              "      <td>4839508725</td>\n",
              "      <td>1279858901492666369</td>\n",
              "      <td>0.237580</td>\n",
              "      <td>0.229001</td>\n",
              "      <td>0.234322</td>\n",
              "      <td>0.263531</td>\n",
              "      <td>0.249651</td>\n",
              "      <td>0.329019</td>\n",
              "      <td>0.451994</td>\n",
              "      <td>0.330474</td>\n",
              "      <td>...</td>\n",
              "      <td>0.323149</td>\n",
              "      <td>0.243424</td>\n",
              "      <td>0.360810</td>\n",
              "      <td>0.339437</td>\n",
              "      <td>0.202057</td>\n",
              "      <td>0.000000</td>\n",
              "      <td>0.337828</td>\n",
              "      <td>0.483022</td>\n",
              "      <td>0.460186</td>\n",
              "      <td>1.007612</td>\n",
              "    </tr>\n",
              "    <tr>\n",
              "      <th>477</th>\n",
              "      <td>4906563567</td>\n",
              "      <td>19761241</td>\n",
              "      <td>0.306843</td>\n",
              "      <td>0.298643</td>\n",
              "      <td>0.303546</td>\n",
              "      <td>0.331490</td>\n",
              "      <td>0.322161</td>\n",
              "      <td>0.386534</td>\n",
              "      <td>0.496536</td>\n",
              "      <td>0.389741</td>\n",
              "      <td>...</td>\n",
              "      <td>0.371417</td>\n",
              "      <td>0.305839</td>\n",
              "      <td>0.416353</td>\n",
              "      <td>0.387490</td>\n",
              "      <td>0.303109</td>\n",
              "      <td>0.337828</td>\n",
              "      <td>0.000000</td>\n",
              "      <td>0.529431</td>\n",
              "      <td>0.503475</td>\n",
              "      <td>1.032884</td>\n",
              "    </tr>\n",
              "    <tr>\n",
              "      <th>478</th>\n",
              "      <td>4835841857</td>\n",
              "      <td>853662554492735488</td>\n",
              "      <td>0.460222</td>\n",
              "      <td>0.458855</td>\n",
              "      <td>0.460453</td>\n",
              "      <td>0.492757</td>\n",
              "      <td>0.475302</td>\n",
              "      <td>0.527124</td>\n",
              "      <td>0.595824</td>\n",
              "      <td>0.523628</td>\n",
              "      <td>...</td>\n",
              "      <td>0.514135</td>\n",
              "      <td>0.463290</td>\n",
              "      <td>0.541076</td>\n",
              "      <td>0.516421</td>\n",
              "      <td>0.459958</td>\n",
              "      <td>0.483022</td>\n",
              "      <td>0.529431</td>\n",
              "      <td>0.000000</td>\n",
              "      <td>0.617666</td>\n",
              "      <td>1.092087</td>\n",
              "    </tr>\n",
              "    <tr>\n",
              "      <th>479</th>\n",
              "      <td>1638277826</td>\n",
              "      <td>998955143612846080</td>\n",
              "      <td>0.444726</td>\n",
              "      <td>0.443523</td>\n",
              "      <td>0.444838</td>\n",
              "      <td>0.458982</td>\n",
              "      <td>0.448825</td>\n",
              "      <td>0.501998</td>\n",
              "      <td>0.593157</td>\n",
              "      <td>0.511065</td>\n",
              "      <td>...</td>\n",
              "      <td>0.493261</td>\n",
              "      <td>0.449521</td>\n",
              "      <td>0.507707</td>\n",
              "      <td>0.511718</td>\n",
              "      <td>0.442251</td>\n",
              "      <td>0.460186</td>\n",
              "      <td>0.503475</td>\n",
              "      <td>0.617666</td>\n",
              "      <td>0.000000</td>\n",
              "      <td>1.086366</td>\n",
              "    </tr>\n",
              "    <tr>\n",
              "      <th>480</th>\n",
              "      <td>573843309</td>\n",
              "      <td>1020607462804795393</td>\n",
              "      <td>0.990609</td>\n",
              "      <td>0.982092</td>\n",
              "      <td>0.989666</td>\n",
              "      <td>1.013760</td>\n",
              "      <td>1.004391</td>\n",
              "      <td>1.022602</td>\n",
              "      <td>1.077481</td>\n",
              "      <td>1.023311</td>\n",
              "      <td>...</td>\n",
              "      <td>1.024847</td>\n",
              "      <td>0.993758</td>\n",
              "      <td>1.039806</td>\n",
              "      <td>1.029000</td>\n",
              "      <td>0.993581</td>\n",
              "      <td>1.007612</td>\n",
              "      <td>1.032884</td>\n",
              "      <td>1.092087</td>\n",
              "      <td>1.086366</td>\n",
              "      <td>0.000000</td>\n",
              "    </tr>\n",
              "  </tbody>\n",
              "</table>\n",
              "<p>481 rows × 483 columns</p>\n",
              "</div>\n",
              "      <button class=\"colab-df-convert\" onclick=\"convertToInteractive('df-4071c2cd-2877-4cf5-86ed-9db49547b75c')\"\n",
              "              title=\"Convert this dataframe to an interactive table.\"\n",
              "              style=\"display:none;\">\n",
              "        \n",
              "  <svg xmlns=\"http://www.w3.org/2000/svg\" height=\"24px\"viewBox=\"0 0 24 24\"\n",
              "       width=\"24px\">\n",
              "    <path d=\"M0 0h24v24H0V0z\" fill=\"none\"/>\n",
              "    <path d=\"M18.56 5.44l.94 2.06.94-2.06 2.06-.94-2.06-.94-.94-2.06-.94 2.06-2.06.94zm-11 1L8.5 8.5l.94-2.06 2.06-.94-2.06-.94L8.5 2.5l-.94 2.06-2.06.94zm10 10l.94 2.06.94-2.06 2.06-.94-2.06-.94-.94-2.06-.94 2.06-2.06.94z\"/><path d=\"M17.41 7.96l-1.37-1.37c-.4-.4-.92-.59-1.43-.59-.52 0-1.04.2-1.43.59L10.3 9.45l-7.72 7.72c-.78.78-.78 2.05 0 2.83L4 21.41c.39.39.9.59 1.41.59.51 0 1.02-.2 1.41-.59l7.78-7.78 2.81-2.81c.8-.78.8-2.07 0-2.86zM5.41 20L4 18.59l7.72-7.72 1.47 1.35L5.41 20z\"/>\n",
              "  </svg>\n",
              "      </button>\n",
              "      \n",
              "  <style>\n",
              "    .colab-df-container {\n",
              "      display:flex;\n",
              "      flex-wrap:wrap;\n",
              "      gap: 12px;\n",
              "    }\n",
              "\n",
              "    .colab-df-convert {\n",
              "      background-color: #E8F0FE;\n",
              "      border: none;\n",
              "      border-radius: 50%;\n",
              "      cursor: pointer;\n",
              "      display: none;\n",
              "      fill: #1967D2;\n",
              "      height: 32px;\n",
              "      padding: 0 0 0 0;\n",
              "      width: 32px;\n",
              "    }\n",
              "\n",
              "    .colab-df-convert:hover {\n",
              "      background-color: #E2EBFA;\n",
              "      box-shadow: 0px 1px 2px rgba(60, 64, 67, 0.3), 0px 1px 3px 1px rgba(60, 64, 67, 0.15);\n",
              "      fill: #174EA6;\n",
              "    }\n",
              "\n",
              "    [theme=dark] .colab-df-convert {\n",
              "      background-color: #3B4455;\n",
              "      fill: #D2E3FC;\n",
              "    }\n",
              "\n",
              "    [theme=dark] .colab-df-convert:hover {\n",
              "      background-color: #434B5C;\n",
              "      box-shadow: 0px 1px 3px 1px rgba(0, 0, 0, 0.15);\n",
              "      filter: drop-shadow(0px 1px 2px rgba(0, 0, 0, 0.3));\n",
              "      fill: #FFFFFF;\n",
              "    }\n",
              "  </style>\n",
              "\n",
              "      <script>\n",
              "        const buttonEl =\n",
              "          document.querySelector('#df-4071c2cd-2877-4cf5-86ed-9db49547b75c button.colab-df-convert');\n",
              "        buttonEl.style.display =\n",
              "          google.colab.kernel.accessAllowed ? 'block' : 'none';\n",
              "\n",
              "        async function convertToInteractive(key) {\n",
              "          const element = document.querySelector('#df-4071c2cd-2877-4cf5-86ed-9db49547b75c');\n",
              "          const dataTable =\n",
              "            await google.colab.kernel.invokeFunction('convertToInteractive',\n",
              "                                                     [key], {});\n",
              "          if (!dataTable) return;\n",
              "\n",
              "          const docLinkHtml = 'Like what you see? Visit the ' +\n",
              "            '<a target=\"_blank\" href=https://colab.research.google.com/notebooks/data_table.ipynb>data table notebook</a>'\n",
              "            + ' to learn more about interactive tables.';\n",
              "          element.innerHTML = '';\n",
              "          dataTable['output_type'] = 'display_data';\n",
              "          await google.colab.output.renderOutput(dataTable, element);\n",
              "          const docLink = document.createElement('div');\n",
              "          docLink.innerHTML = docLinkHtml;\n",
              "          element.appendChild(docLink);\n",
              "        }\n",
              "      </script>\n",
              "    </div>\n",
              "  </div>\n",
              "  "
            ],
            "text/plain": [
              "                   index                  min  865981751444852736  \\\n",
              "0     865981751444852736   966776088834838532            0.000000   \n",
              "1    1020607462804795393   756623112528068609            0.143907   \n",
              "2    1339288641789628422   853662554492735488            0.154669   \n",
              "3    1266258111397912576  1279858901492666369            0.247514   \n",
              "4    1030026976164229120   756623112528068609            0.197173   \n",
              "..                   ...                  ...                 ...   \n",
              "476           4839508725  1279858901492666369            0.237580   \n",
              "477           4906563567             19761241            0.306843   \n",
              "478           4835841857   853662554492735488            0.460222   \n",
              "479           1638277826   998955143612846080            0.444726   \n",
              "480            573843309  1020607462804795393            0.990609   \n",
              "\n",
              "     1020607462804795393  1339288641789628422  1266258111397912576  \\\n",
              "0               0.143907             0.154669             0.247514   \n",
              "1               0.000000             0.145358             0.236877   \n",
              "2               0.145358             0.000000             0.240840   \n",
              "3               0.236877             0.240840             0.000000   \n",
              "4               0.192780             0.195516             0.261939   \n",
              "..                   ...                  ...                  ...   \n",
              "476             0.229001             0.234322             0.263531   \n",
              "477             0.298643             0.303546             0.331490   \n",
              "478             0.458855             0.460453             0.492757   \n",
              "479             0.443523             0.444838             0.458982   \n",
              "480             0.982092             0.989666             1.013760   \n",
              "\n",
              "     1030026976164229120  1201169360485830657  359022772  1034137009189732352  \\\n",
              "0               0.197173             0.300360   0.418881             0.298491   \n",
              "1               0.192780             0.293122   0.420982             0.292316   \n",
              "2               0.195516             0.296730   0.415807             0.295963   \n",
              "3               0.261939             0.349277   0.453654             0.349937   \n",
              "4               0.000000             0.318324   0.438012             0.319803   \n",
              "..                   ...                  ...        ...                  ...   \n",
              "476             0.249651             0.329019   0.451994             0.330474   \n",
              "477             0.322161             0.386534   0.496536             0.389741   \n",
              "478             0.475302             0.527124   0.595824             0.523628   \n",
              "479             0.448825             0.501998   0.593157             0.511065   \n",
              "480             1.004391             1.022602   1.077481             1.023311   \n",
              "\n",
              "     ...  1646169098  862760815920902144  861653502946398208  630199052  \\\n",
              "0    ...    0.265528            0.166327            0.318253   0.303903   \n",
              "1    ...    0.263943            0.154567            0.313572   0.296239   \n",
              "2    ...    0.267769            0.167511            0.318144   0.298318   \n",
              "3    ...    0.321840            0.250102            0.371559   0.344108   \n",
              "4    ...    0.298517            0.205941            0.341818   0.322835   \n",
              "..   ...         ...                 ...                 ...        ...   \n",
              "476  ...    0.323149            0.243424            0.360810   0.339437   \n",
              "477  ...    0.371417            0.305839            0.416353   0.387490   \n",
              "478  ...    0.514135            0.463290            0.541076   0.516421   \n",
              "479  ...    0.493261            0.449521            0.507707   0.511718   \n",
              "480  ...    1.024847            0.993758            1.039806   1.029000   \n",
              "\n",
              "     754826845875539968  4839508725  4906563567  4835841857  1638277826  \\\n",
              "0              0.163981    0.237580    0.306843    0.460222    0.444726   \n",
              "1              0.155618    0.229001    0.298643    0.458855    0.443523   \n",
              "2              0.161715    0.234322    0.303546    0.460453    0.444838   \n",
              "3              0.228180    0.263531    0.331490    0.492757    0.458982   \n",
              "4              0.185181    0.249651    0.322161    0.475302    0.448825   \n",
              "..                  ...         ...         ...         ...         ...   \n",
              "476            0.202057    0.000000    0.337828    0.483022    0.460186   \n",
              "477            0.303109    0.337828    0.000000    0.529431    0.503475   \n",
              "478            0.459958    0.483022    0.529431    0.000000    0.617666   \n",
              "479            0.442251    0.460186    0.503475    0.617666    0.000000   \n",
              "480            0.993581    1.007612    1.032884    1.092087    1.086366   \n",
              "\n",
              "     573843309  \n",
              "0     0.990609  \n",
              "1     0.982092  \n",
              "2     0.989666  \n",
              "3     1.013760  \n",
              "4     1.004391  \n",
              "..         ...  \n",
              "476   1.007612  \n",
              "477   1.032884  \n",
              "478   1.092087  \n",
              "479   1.086366  \n",
              "480   0.000000  \n",
              "\n",
              "[481 rows x 483 columns]"
            ]
          },
          "execution_count": 37,
          "metadata": {},
          "output_type": "execute_result"
        }
      ],
      "source": [
        "df_ids"
      ]
    },
    {
      "cell_type": "code",
      "execution_count": null,
      "metadata": {
        "colab": {
          "base_uri": "https://localhost:8080/",
          "height": 613
        },
        "id": "Iy3fWJzz0SbV",
        "outputId": "dec86b39-f24d-419d-8c86-f0567fdbdc0c"
      },
      "outputs": [
        {
          "data": {
            "text/html": [
              "\n",
              "  <div id=\"df-204097ba-c98e-4225-ab67-cafb44ca4db6\">\n",
              "    <div class=\"colab-df-container\">\n",
              "      <div>\n",
              "<style scoped>\n",
              "    .dataframe tbody tr th:only-of-type {\n",
              "        vertical-align: middle;\n",
              "    }\n",
              "\n",
              "    .dataframe tbody tr th {\n",
              "        vertical-align: top;\n",
              "    }\n",
              "\n",
              "    .dataframe thead th {\n",
              "        text-align: right;\n",
              "    }\n",
              "</style>\n",
              "<table border=\"1\" class=\"dataframe\">\n",
              "  <thead>\n",
              "    <tr style=\"text-align: right;\">\n",
              "      <th></th>\n",
              "      <th>index</th>\n",
              "      <th>min</th>\n",
              "      <th>865981751444852736</th>\n",
              "      <th>1020607462804795393</th>\n",
              "      <th>1339288641789628422</th>\n",
              "      <th>1266258111397912576</th>\n",
              "      <th>1030026976164229120</th>\n",
              "      <th>1201169360485830657</th>\n",
              "      <th>359022772</th>\n",
              "      <th>1034137009189732352</th>\n",
              "      <th>...</th>\n",
              "      <th>1646169098</th>\n",
              "      <th>862760815920902144</th>\n",
              "      <th>861653502946398208</th>\n",
              "      <th>630199052</th>\n",
              "      <th>754826845875539968</th>\n",
              "      <th>4839508725</th>\n",
              "      <th>4906563567</th>\n",
              "      <th>4835841857</th>\n",
              "      <th>1638277826</th>\n",
              "      <th>573843309</th>\n",
              "    </tr>\n",
              "  </thead>\n",
              "  <tbody>\n",
              "    <tr>\n",
              "      <th>0</th>\n",
              "      <td>865981751444852736</td>\n",
              "      <td>966776088834838532</td>\n",
              "      <td>0.000000</td>\n",
              "      <td>0.143907</td>\n",
              "      <td>0.154669</td>\n",
              "      <td>0.247514</td>\n",
              "      <td>0.197173</td>\n",
              "      <td>0.300360</td>\n",
              "      <td>0.418881</td>\n",
              "      <td>0.298491</td>\n",
              "      <td>...</td>\n",
              "      <td>0.265528</td>\n",
              "      <td>0.166327</td>\n",
              "      <td>0.318253</td>\n",
              "      <td>0.303903</td>\n",
              "      <td>0.163981</td>\n",
              "      <td>0.237580</td>\n",
              "      <td>0.306843</td>\n",
              "      <td>0.460222</td>\n",
              "      <td>0.444726</td>\n",
              "      <td>0.990609</td>\n",
              "    </tr>\n",
              "    <tr>\n",
              "      <th>1</th>\n",
              "      <td>1020607462804795393</td>\n",
              "      <td>756623112528068609</td>\n",
              "      <td>0.143907</td>\n",
              "      <td>0.000000</td>\n",
              "      <td>0.145358</td>\n",
              "      <td>0.236877</td>\n",
              "      <td>0.192780</td>\n",
              "      <td>0.293122</td>\n",
              "      <td>0.420982</td>\n",
              "      <td>0.292316</td>\n",
              "      <td>...</td>\n",
              "      <td>0.263943</td>\n",
              "      <td>0.154567</td>\n",
              "      <td>0.313572</td>\n",
              "      <td>0.296239</td>\n",
              "      <td>0.155618</td>\n",
              "      <td>0.229001</td>\n",
              "      <td>0.298643</td>\n",
              "      <td>0.458855</td>\n",
              "      <td>0.443523</td>\n",
              "      <td>0.982092</td>\n",
              "    </tr>\n",
              "    <tr>\n",
              "      <th>2</th>\n",
              "      <td>1339288641789628422</td>\n",
              "      <td>853662554492735488</td>\n",
              "      <td>0.154669</td>\n",
              "      <td>0.145358</td>\n",
              "      <td>0.000000</td>\n",
              "      <td>0.240840</td>\n",
              "      <td>0.195516</td>\n",
              "      <td>0.296730</td>\n",
              "      <td>0.415807</td>\n",
              "      <td>0.295963</td>\n",
              "      <td>...</td>\n",
              "      <td>0.267769</td>\n",
              "      <td>0.167511</td>\n",
              "      <td>0.318144</td>\n",
              "      <td>0.298318</td>\n",
              "      <td>0.161715</td>\n",
              "      <td>0.234322</td>\n",
              "      <td>0.303546</td>\n",
              "      <td>0.460453</td>\n",
              "      <td>0.444838</td>\n",
              "      <td>0.989666</td>\n",
              "    </tr>\n",
              "    <tr>\n",
              "      <th>3</th>\n",
              "      <td>1266258111397912576</td>\n",
              "      <td>1279858901492666369</td>\n",
              "      <td>0.247514</td>\n",
              "      <td>0.236877</td>\n",
              "      <td>0.240840</td>\n",
              "      <td>0.000000</td>\n",
              "      <td>0.261939</td>\n",
              "      <td>0.349277</td>\n",
              "      <td>0.453654</td>\n",
              "      <td>0.349937</td>\n",
              "      <td>...</td>\n",
              "      <td>0.321840</td>\n",
              "      <td>0.250102</td>\n",
              "      <td>0.371559</td>\n",
              "      <td>0.344108</td>\n",
              "      <td>0.228180</td>\n",
              "      <td>0.263531</td>\n",
              "      <td>0.331490</td>\n",
              "      <td>0.492757</td>\n",
              "      <td>0.458982</td>\n",
              "      <td>1.013760</td>\n",
              "    </tr>\n",
              "    <tr>\n",
              "      <th>4</th>\n",
              "      <td>1030026976164229120</td>\n",
              "      <td>756623112528068609</td>\n",
              "      <td>0.197173</td>\n",
              "      <td>0.192780</td>\n",
              "      <td>0.195516</td>\n",
              "      <td>0.261939</td>\n",
              "      <td>0.000000</td>\n",
              "      <td>0.318324</td>\n",
              "      <td>0.438012</td>\n",
              "      <td>0.319803</td>\n",
              "      <td>...</td>\n",
              "      <td>0.298517</td>\n",
              "      <td>0.205941</td>\n",
              "      <td>0.341818</td>\n",
              "      <td>0.322835</td>\n",
              "      <td>0.185181</td>\n",
              "      <td>0.249651</td>\n",
              "      <td>0.322161</td>\n",
              "      <td>0.475302</td>\n",
              "      <td>0.448825</td>\n",
              "      <td>1.004391</td>\n",
              "    </tr>\n",
              "    <tr>\n",
              "      <th>5</th>\n",
              "      <td>1201169360485830657</td>\n",
              "      <td>853662554492735488</td>\n",
              "      <td>0.300360</td>\n",
              "      <td>0.293122</td>\n",
              "      <td>0.296730</td>\n",
              "      <td>0.349277</td>\n",
              "      <td>0.318324</td>\n",
              "      <td>0.000000</td>\n",
              "      <td>0.483304</td>\n",
              "      <td>0.385346</td>\n",
              "      <td>...</td>\n",
              "      <td>0.372910</td>\n",
              "      <td>0.306866</td>\n",
              "      <td>0.408043</td>\n",
              "      <td>0.394869</td>\n",
              "      <td>0.298101</td>\n",
              "      <td>0.329019</td>\n",
              "      <td>0.386534</td>\n",
              "      <td>0.527124</td>\n",
              "      <td>0.501998</td>\n",
              "      <td>1.022602</td>\n",
              "    </tr>\n",
              "    <tr>\n",
              "      <th>6</th>\n",
              "      <td>359022772</td>\n",
              "      <td>853662554492735488</td>\n",
              "      <td>0.418881</td>\n",
              "      <td>0.420982</td>\n",
              "      <td>0.415807</td>\n",
              "      <td>0.453654</td>\n",
              "      <td>0.438012</td>\n",
              "      <td>0.483304</td>\n",
              "      <td>0.000000</td>\n",
              "      <td>0.482061</td>\n",
              "      <td>...</td>\n",
              "      <td>0.473467</td>\n",
              "      <td>0.424590</td>\n",
              "      <td>0.502884</td>\n",
              "      <td>0.487181</td>\n",
              "      <td>0.422787</td>\n",
              "      <td>0.451994</td>\n",
              "      <td>0.496536</td>\n",
              "      <td>0.595824</td>\n",
              "      <td>0.593157</td>\n",
              "      <td>1.077481</td>\n",
              "    </tr>\n",
              "    <tr>\n",
              "      <th>7</th>\n",
              "      <td>1034137009189732352</td>\n",
              "      <td>1114539047307882497</td>\n",
              "      <td>0.298491</td>\n",
              "      <td>0.292316</td>\n",
              "      <td>0.295963</td>\n",
              "      <td>0.349937</td>\n",
              "      <td>0.319803</td>\n",
              "      <td>0.385346</td>\n",
              "      <td>0.482061</td>\n",
              "      <td>0.000000</td>\n",
              "      <td>...</td>\n",
              "      <td>0.371305</td>\n",
              "      <td>0.301500</td>\n",
              "      <td>0.412840</td>\n",
              "      <td>0.390820</td>\n",
              "      <td>0.297983</td>\n",
              "      <td>0.330474</td>\n",
              "      <td>0.389741</td>\n",
              "      <td>0.523628</td>\n",
              "      <td>0.511065</td>\n",
              "      <td>1.023311</td>\n",
              "    </tr>\n",
              "    <tr>\n",
              "      <th>8</th>\n",
              "      <td>1464993254215147520</td>\n",
              "      <td>853662554492735488</td>\n",
              "      <td>0.262819</td>\n",
              "      <td>0.259044</td>\n",
              "      <td>0.261174</td>\n",
              "      <td>0.312734</td>\n",
              "      <td>0.281772</td>\n",
              "      <td>0.355037</td>\n",
              "      <td>0.454251</td>\n",
              "      <td>0.357585</td>\n",
              "      <td>...</td>\n",
              "      <td>0.343448</td>\n",
              "      <td>0.272345</td>\n",
              "      <td>0.380425</td>\n",
              "      <td>0.363864</td>\n",
              "      <td>0.252560</td>\n",
              "      <td>0.296219</td>\n",
              "      <td>0.371991</td>\n",
              "      <td>0.504262</td>\n",
              "      <td>0.484797</td>\n",
              "      <td>1.020811</td>\n",
              "    </tr>\n",
              "    <tr>\n",
              "      <th>9</th>\n",
              "      <td>1069982011593494529</td>\n",
              "      <td>19761241</td>\n",
              "      <td>0.214726</td>\n",
              "      <td>0.207036</td>\n",
              "      <td>0.210166</td>\n",
              "      <td>0.277898</td>\n",
              "      <td>0.244061</td>\n",
              "      <td>0.331572</td>\n",
              "      <td>0.441254</td>\n",
              "      <td>0.326782</td>\n",
              "      <td>...</td>\n",
              "      <td>0.303725</td>\n",
              "      <td>0.221353</td>\n",
              "      <td>0.351325</td>\n",
              "      <td>0.335327</td>\n",
              "      <td>0.218522</td>\n",
              "      <td>0.269660</td>\n",
              "      <td>0.333115</td>\n",
              "      <td>0.484753</td>\n",
              "      <td>0.469307</td>\n",
              "      <td>1.005528</td>\n",
              "    </tr>\n",
              "    <tr>\n",
              "      <th>10</th>\n",
              "      <td>986561881426006016</td>\n",
              "      <td>966776088834838532</td>\n",
              "      <td>0.994816</td>\n",
              "      <td>0.993543</td>\n",
              "      <td>0.992520</td>\n",
              "      <td>1.012289</td>\n",
              "      <td>1.001732</td>\n",
              "      <td>1.037879</td>\n",
              "      <td>1.052878</td>\n",
              "      <td>1.030666</td>\n",
              "      <td>...</td>\n",
              "      <td>1.011642</td>\n",
              "      <td>1.000179</td>\n",
              "      <td>1.039778</td>\n",
              "      <td>1.011589</td>\n",
              "      <td>0.996508</td>\n",
              "      <td>1.012672</td>\n",
              "      <td>1.029122</td>\n",
              "      <td>1.093083</td>\n",
              "      <td>1.084314</td>\n",
              "      <td>1.392061</td>\n",
              "    </tr>\n",
              "    <tr>\n",
              "      <th>11</th>\n",
              "      <td>983295355545702400</td>\n",
              "      <td>19761241</td>\n",
              "      <td>0.344208</td>\n",
              "      <td>0.340590</td>\n",
              "      <td>0.344546</td>\n",
              "      <td>0.386353</td>\n",
              "      <td>0.371261</td>\n",
              "      <td>0.424532</td>\n",
              "      <td>0.519939</td>\n",
              "      <td>0.419965</td>\n",
              "      <td>...</td>\n",
              "      <td>0.408324</td>\n",
              "      <td>0.354472</td>\n",
              "      <td>0.444218</td>\n",
              "      <td>0.427662</td>\n",
              "      <td>0.346674</td>\n",
              "      <td>0.381634</td>\n",
              "      <td>0.428863</td>\n",
              "      <td>0.560922</td>\n",
              "      <td>0.530234</td>\n",
              "      <td>1.026506</td>\n",
              "    </tr>\n",
              "    <tr>\n",
              "      <th>12</th>\n",
              "      <td>463069566</td>\n",
              "      <td>19761241</td>\n",
              "      <td>0.283638</td>\n",
              "      <td>0.272563</td>\n",
              "      <td>0.280354</td>\n",
              "      <td>0.310908</td>\n",
              "      <td>0.304000</td>\n",
              "      <td>0.373961</td>\n",
              "      <td>0.485143</td>\n",
              "      <td>0.373112</td>\n",
              "      <td>...</td>\n",
              "      <td>0.349425</td>\n",
              "      <td>0.287471</td>\n",
              "      <td>0.395198</td>\n",
              "      <td>0.373642</td>\n",
              "      <td>0.277478</td>\n",
              "      <td>0.312611</td>\n",
              "      <td>0.373193</td>\n",
              "      <td>0.517960</td>\n",
              "      <td>0.489933</td>\n",
              "      <td>1.025592</td>\n",
              "    </tr>\n",
              "    <tr>\n",
              "      <th>13</th>\n",
              "      <td>850946423474405377</td>\n",
              "      <td>2858397523</td>\n",
              "      <td>0.202923</td>\n",
              "      <td>0.197087</td>\n",
              "      <td>0.206906</td>\n",
              "      <td>0.282378</td>\n",
              "      <td>0.240898</td>\n",
              "      <td>0.331982</td>\n",
              "      <td>0.434936</td>\n",
              "      <td>0.319746</td>\n",
              "      <td>...</td>\n",
              "      <td>0.298144</td>\n",
              "      <td>0.214884</td>\n",
              "      <td>0.341695</td>\n",
              "      <td>0.329101</td>\n",
              "      <td>0.211963</td>\n",
              "      <td>0.269303</td>\n",
              "      <td>0.335209</td>\n",
              "      <td>0.475966</td>\n",
              "      <td>0.467228</td>\n",
              "      <td>1.004165</td>\n",
              "    </tr>\n",
              "    <tr>\n",
              "      <th>14</th>\n",
              "      <td>1455550333107773446</td>\n",
              "      <td>756623112528068609</td>\n",
              "      <td>0.199338</td>\n",
              "      <td>0.189438</td>\n",
              "      <td>0.190163</td>\n",
              "      <td>0.261133</td>\n",
              "      <td>0.223747</td>\n",
              "      <td>0.319410</td>\n",
              "      <td>0.435401</td>\n",
              "      <td>0.311766</td>\n",
              "      <td>...</td>\n",
              "      <td>0.295923</td>\n",
              "      <td>0.203016</td>\n",
              "      <td>0.330582</td>\n",
              "      <td>0.321233</td>\n",
              "      <td>0.188766</td>\n",
              "      <td>0.244286</td>\n",
              "      <td>0.319632</td>\n",
              "      <td>0.472879</td>\n",
              "      <td>0.452190</td>\n",
              "      <td>1.003410</td>\n",
              "    </tr>\n",
              "  </tbody>\n",
              "</table>\n",
              "<p>15 rows × 483 columns</p>\n",
              "</div>\n",
              "      <button class=\"colab-df-convert\" onclick=\"convertToInteractive('df-204097ba-c98e-4225-ab67-cafb44ca4db6')\"\n",
              "              title=\"Convert this dataframe to an interactive table.\"\n",
              "              style=\"display:none;\">\n",
              "        \n",
              "  <svg xmlns=\"http://www.w3.org/2000/svg\" height=\"24px\"viewBox=\"0 0 24 24\"\n",
              "       width=\"24px\">\n",
              "    <path d=\"M0 0h24v24H0V0z\" fill=\"none\"/>\n",
              "    <path d=\"M18.56 5.44l.94 2.06.94-2.06 2.06-.94-2.06-.94-.94-2.06-.94 2.06-2.06.94zm-11 1L8.5 8.5l.94-2.06 2.06-.94-2.06-.94L8.5 2.5l-.94 2.06-2.06.94zm10 10l.94 2.06.94-2.06 2.06-.94-2.06-.94-.94-2.06-.94 2.06-2.06.94z\"/><path d=\"M17.41 7.96l-1.37-1.37c-.4-.4-.92-.59-1.43-.59-.52 0-1.04.2-1.43.59L10.3 9.45l-7.72 7.72c-.78.78-.78 2.05 0 2.83L4 21.41c.39.39.9.59 1.41.59.51 0 1.02-.2 1.41-.59l7.78-7.78 2.81-2.81c.8-.78.8-2.07 0-2.86zM5.41 20L4 18.59l7.72-7.72 1.47 1.35L5.41 20z\"/>\n",
              "  </svg>\n",
              "      </button>\n",
              "      \n",
              "  <style>\n",
              "    .colab-df-container {\n",
              "      display:flex;\n",
              "      flex-wrap:wrap;\n",
              "      gap: 12px;\n",
              "    }\n",
              "\n",
              "    .colab-df-convert {\n",
              "      background-color: #E8F0FE;\n",
              "      border: none;\n",
              "      border-radius: 50%;\n",
              "      cursor: pointer;\n",
              "      display: none;\n",
              "      fill: #1967D2;\n",
              "      height: 32px;\n",
              "      padding: 0 0 0 0;\n",
              "      width: 32px;\n",
              "    }\n",
              "\n",
              "    .colab-df-convert:hover {\n",
              "      background-color: #E2EBFA;\n",
              "      box-shadow: 0px 1px 2px rgba(60, 64, 67, 0.3), 0px 1px 3px 1px rgba(60, 64, 67, 0.15);\n",
              "      fill: #174EA6;\n",
              "    }\n",
              "\n",
              "    [theme=dark] .colab-df-convert {\n",
              "      background-color: #3B4455;\n",
              "      fill: #D2E3FC;\n",
              "    }\n",
              "\n",
              "    [theme=dark] .colab-df-convert:hover {\n",
              "      background-color: #434B5C;\n",
              "      box-shadow: 0px 1px 3px 1px rgba(0, 0, 0, 0.15);\n",
              "      filter: drop-shadow(0px 1px 2px rgba(0, 0, 0, 0.3));\n",
              "      fill: #FFFFFF;\n",
              "    }\n",
              "  </style>\n",
              "\n",
              "      <script>\n",
              "        const buttonEl =\n",
              "          document.querySelector('#df-204097ba-c98e-4225-ab67-cafb44ca4db6 button.colab-df-convert');\n",
              "        buttonEl.style.display =\n",
              "          google.colab.kernel.accessAllowed ? 'block' : 'none';\n",
              "\n",
              "        async function convertToInteractive(key) {\n",
              "          const element = document.querySelector('#df-204097ba-c98e-4225-ab67-cafb44ca4db6');\n",
              "          const dataTable =\n",
              "            await google.colab.kernel.invokeFunction('convertToInteractive',\n",
              "                                                     [key], {});\n",
              "          if (!dataTable) return;\n",
              "\n",
              "          const docLinkHtml = 'Like what you see? Visit the ' +\n",
              "            '<a target=\"_blank\" href=https://colab.research.google.com/notebooks/data_table.ipynb>data table notebook</a>'\n",
              "            + ' to learn more about interactive tables.';\n",
              "          element.innerHTML = '';\n",
              "          dataTable['output_type'] = 'display_data';\n",
              "          await google.colab.output.renderOutput(dataTable, element);\n",
              "          const docLink = document.createElement('div');\n",
              "          docLink.innerHTML = docLinkHtml;\n",
              "          element.appendChild(docLink);\n",
              "        }\n",
              "      </script>\n",
              "    </div>\n",
              "  </div>\n",
              "  "
            ],
            "text/plain": [
              "                  index                  min  865981751444852736  \\\n",
              "0    865981751444852736   966776088834838532            0.000000   \n",
              "1   1020607462804795393   756623112528068609            0.143907   \n",
              "2   1339288641789628422   853662554492735488            0.154669   \n",
              "3   1266258111397912576  1279858901492666369            0.247514   \n",
              "4   1030026976164229120   756623112528068609            0.197173   \n",
              "5   1201169360485830657   853662554492735488            0.300360   \n",
              "6             359022772   853662554492735488            0.418881   \n",
              "7   1034137009189732352  1114539047307882497            0.298491   \n",
              "8   1464993254215147520   853662554492735488            0.262819   \n",
              "9   1069982011593494529             19761241            0.214726   \n",
              "10   986561881426006016   966776088834838532            0.994816   \n",
              "11   983295355545702400             19761241            0.344208   \n",
              "12            463069566             19761241            0.283638   \n",
              "13   850946423474405377           2858397523            0.202923   \n",
              "14  1455550333107773446   756623112528068609            0.199338   \n",
              "\n",
              "    1020607462804795393  1339288641789628422  1266258111397912576  \\\n",
              "0              0.143907             0.154669             0.247514   \n",
              "1              0.000000             0.145358             0.236877   \n",
              "2              0.145358             0.000000             0.240840   \n",
              "3              0.236877             0.240840             0.000000   \n",
              "4              0.192780             0.195516             0.261939   \n",
              "5              0.293122             0.296730             0.349277   \n",
              "6              0.420982             0.415807             0.453654   \n",
              "7              0.292316             0.295963             0.349937   \n",
              "8              0.259044             0.261174             0.312734   \n",
              "9              0.207036             0.210166             0.277898   \n",
              "10             0.993543             0.992520             1.012289   \n",
              "11             0.340590             0.344546             0.386353   \n",
              "12             0.272563             0.280354             0.310908   \n",
              "13             0.197087             0.206906             0.282378   \n",
              "14             0.189438             0.190163             0.261133   \n",
              "\n",
              "    1030026976164229120  1201169360485830657  359022772  1034137009189732352  \\\n",
              "0              0.197173             0.300360   0.418881             0.298491   \n",
              "1              0.192780             0.293122   0.420982             0.292316   \n",
              "2              0.195516             0.296730   0.415807             0.295963   \n",
              "3              0.261939             0.349277   0.453654             0.349937   \n",
              "4              0.000000             0.318324   0.438012             0.319803   \n",
              "5              0.318324             0.000000   0.483304             0.385346   \n",
              "6              0.438012             0.483304   0.000000             0.482061   \n",
              "7              0.319803             0.385346   0.482061             0.000000   \n",
              "8              0.281772             0.355037   0.454251             0.357585   \n",
              "9              0.244061             0.331572   0.441254             0.326782   \n",
              "10             1.001732             1.037879   1.052878             1.030666   \n",
              "11             0.371261             0.424532   0.519939             0.419965   \n",
              "12             0.304000             0.373961   0.485143             0.373112   \n",
              "13             0.240898             0.331982   0.434936             0.319746   \n",
              "14             0.223747             0.319410   0.435401             0.311766   \n",
              "\n",
              "    ...  1646169098  862760815920902144  861653502946398208  630199052  \\\n",
              "0   ...    0.265528            0.166327            0.318253   0.303903   \n",
              "1   ...    0.263943            0.154567            0.313572   0.296239   \n",
              "2   ...    0.267769            0.167511            0.318144   0.298318   \n",
              "3   ...    0.321840            0.250102            0.371559   0.344108   \n",
              "4   ...    0.298517            0.205941            0.341818   0.322835   \n",
              "5   ...    0.372910            0.306866            0.408043   0.394869   \n",
              "6   ...    0.473467            0.424590            0.502884   0.487181   \n",
              "7   ...    0.371305            0.301500            0.412840   0.390820   \n",
              "8   ...    0.343448            0.272345            0.380425   0.363864   \n",
              "9   ...    0.303725            0.221353            0.351325   0.335327   \n",
              "10  ...    1.011642            1.000179            1.039778   1.011589   \n",
              "11  ...    0.408324            0.354472            0.444218   0.427662   \n",
              "12  ...    0.349425            0.287471            0.395198   0.373642   \n",
              "13  ...    0.298144            0.214884            0.341695   0.329101   \n",
              "14  ...    0.295923            0.203016            0.330582   0.321233   \n",
              "\n",
              "    754826845875539968  4839508725  4906563567  4835841857  1638277826  \\\n",
              "0             0.163981    0.237580    0.306843    0.460222    0.444726   \n",
              "1             0.155618    0.229001    0.298643    0.458855    0.443523   \n",
              "2             0.161715    0.234322    0.303546    0.460453    0.444838   \n",
              "3             0.228180    0.263531    0.331490    0.492757    0.458982   \n",
              "4             0.185181    0.249651    0.322161    0.475302    0.448825   \n",
              "5             0.298101    0.329019    0.386534    0.527124    0.501998   \n",
              "6             0.422787    0.451994    0.496536    0.595824    0.593157   \n",
              "7             0.297983    0.330474    0.389741    0.523628    0.511065   \n",
              "8             0.252560    0.296219    0.371991    0.504262    0.484797   \n",
              "9             0.218522    0.269660    0.333115    0.484753    0.469307   \n",
              "10            0.996508    1.012672    1.029122    1.093083    1.084314   \n",
              "11            0.346674    0.381634    0.428863    0.560922    0.530234   \n",
              "12            0.277478    0.312611    0.373193    0.517960    0.489933   \n",
              "13            0.211963    0.269303    0.335209    0.475966    0.467228   \n",
              "14            0.188766    0.244286    0.319632    0.472879    0.452190   \n",
              "\n",
              "    573843309  \n",
              "0    0.990609  \n",
              "1    0.982092  \n",
              "2    0.989666  \n",
              "3    1.013760  \n",
              "4    1.004391  \n",
              "5    1.022602  \n",
              "6    1.077481  \n",
              "7    1.023311  \n",
              "8    1.020811  \n",
              "9    1.005528  \n",
              "10   1.392061  \n",
              "11   1.026506  \n",
              "12   1.025592  \n",
              "13   1.004165  \n",
              "14   1.003410  \n",
              "\n",
              "[15 rows x 483 columns]"
            ]
          },
          "execution_count": 38,
          "metadata": {},
          "output_type": "execute_result"
        }
      ],
      "source": [
        "df_ids.head(15)"
      ]
    },
    {
      "cell_type": "code",
      "execution_count": null,
      "metadata": {
        "id": "KIkCnaGj0DzW"
      },
      "outputs": [],
      "source": [
        "df_ids.to_csv('/content/drive/MyDrive/twitter-April20/Distance of My Network Users NLP.csv')"
      ]
    },
    {
      "cell_type": "code",
      "execution_count": null,
      "metadata": {
        "id": "YW5oyC6203Z7"
      },
      "outputs": [],
      "source": [
        "del df_ids"
      ]
    },
    {
      "cell_type": "markdown",
      "metadata": {
        "id": "kOdIETm10XqC"
      },
      "source": [
        "# Create the nerwork"
      ]
    },
    {
      "cell_type": "markdown",
      "source": [
        "## Create the language network"
      ],
      "metadata": {
        "id": "NRSrpYvRcHKj"
      }
    },
    {
      "cell_type": "code",
      "execution_count": null,
      "metadata": {
        "id": "_5db8zLu0blP"
      },
      "outputs": [],
      "source": [
        "import pandas as pd\n",
        "df = pd.read_csv('/content/drive/MyDrive/twitter-April20/Distance of My Network Users NLP.csv')"
      ]
    },
    {
      "cell_type": "code",
      "execution_count": null,
      "metadata": {
        "id": "UmMbtJIu1uUb"
      },
      "outputs": [],
      "source": [
        "df.drop('Unnamed: 0', axis = 1, inplace = True)"
      ]
    },
    {
      "cell_type": "code",
      "execution_count": null,
      "metadata": {
        "id": "bMhCLQ4r1pG9"
      },
      "outputs": [],
      "source": [
        "df['index'] = df['index'].astype('str')"
      ]
    },
    {
      "cell_type": "code",
      "execution_count": null,
      "metadata": {
        "id": "u11VxqqeBCSx"
      },
      "outputs": [],
      "source": [
        "import networkx as nx"
      ]
    },
    {
      "cell_type": "code",
      "execution_count": null,
      "metadata": {
        "id": "xwZPyf1XhUzm"
      },
      "outputs": [],
      "source": [
        "with open(\"/content/drive/MyDrive/twitter-April20/sahar_following_data-20220420\", \"rb\") as fp:   # Unpickling\n",
        "  sahar = pickle.load(fp)"
      ]
    },
    {
      "cell_type": "code",
      "source": [
        "with open(\"/content/drive/MyDrive/twitter-April20/uniques.pickle\", \"rb\") as fp:   # Unpickling\n",
        "  uniques = pickle.load(fp)"
      ],
      "metadata": {
        "id": "uGMzm4_SD-sY"
      },
      "execution_count": null,
      "outputs": []
    },
    {
      "cell_type": "code",
      "execution_count": null,
      "metadata": {
        "colab": {
          "base_uri": "https://localhost:8080/"
        },
        "id": "U5QhWkJgBPg8",
        "outputId": "18e07af3-b47a-4f5f-ce75-44a8a6e83f92"
      },
      "outputs": [
        {
          "output_type": "stream",
          "name": "stdout",
          "text": [
            "115440  edges added\n"
          ]
        }
      ],
      "source": [
        "g_vecs = nx.Graph()\n",
        "INF = 100000\n",
        "str_uniques = [str(id) for id in uniques]\n",
        "counter=0\n",
        "for i,row in df.iterrows():\n",
        "  for id in str_uniques:\n",
        "    if g_vecs.has_edge(row['index'],id):\n",
        "      counter+=1\n",
        "    else:\n",
        "      if(row[id]!=id):\n",
        "        if(row[id]!=0):\n",
        "          g_vecs.add_edge(row['index'],id, weight=1/row[id])\n",
        "        elif(row[id] == 0):\n",
        "          g_vecs.add_edge(row['index'],id, weight=INF)\n",
        "        else:\n",
        "          print(row[id])\n",
        "print(counter,' edges added')"
      ]
    },
    {
      "cell_type": "code",
      "execution_count": null,
      "metadata": {
        "id": "trEzuxouFjLK"
      },
      "outputs": [],
      "source": [
        "import numpy as np\n",
        "average_weight=np.average([d['weight'] for (u, v, d) in g_vecs.edges(data=True) if d['weight']!=INF])"
      ]
    },
    {
      "cell_type": "code",
      "source": [
        "# Save the graph\n",
        "# nx.write_gexf(g_vecs, \"/content/drive/MyDrive/twitter-April20/NLP network of my friends.gexf\")"
      ],
      "metadata": {
        "id": "PmfDgyc9FWP-"
      },
      "execution_count": null,
      "outputs": []
    },
    {
      "cell_type": "code",
      "source": [
        "max_weight = 0\n",
        "weights_list = []\n",
        "edges = g_vecs.edges\n",
        "for edge in edges:\n",
        "  if edge[0] != edge[1]:\n",
        "    # print(g_vecs.get_edge_data(edge[0],edge[1])['weight'])\n",
        "    max_weight = max(max_weight, g_vecs.get_edge_data(edge[0],edge[1])['weight'])\n",
        "    weights_list.append(g_vecs.get_edge_data(edge[0],edge[1])['weight'])"
      ],
      "metadata": {
        "id": "4TwoDsnslcyC"
      },
      "execution_count": null,
      "outputs": []
    },
    {
      "cell_type": "code",
      "source": [
        "max_weight"
      ],
      "metadata": {
        "id": "oQn8Me5O0ajI",
        "outputId": "830d246f-4cf4-4926-c453-4d3b322e35b3",
        "colab": {
          "base_uri": "https://localhost:8080/"
        }
      },
      "execution_count": null,
      "outputs": [
        {
          "output_type": "execute_result",
          "data": {
            "text/plain": [
              "8.827393276767106"
            ]
          },
          "metadata": {},
          "execution_count": 14
        }
      ]
    },
    {
      "cell_type": "code",
      "source": [
        "import matplotlib.pyplot as plt\n",
        "import numpy as np\n",
        "%matplotlib inline\n",
        "\n",
        "x=weights_list\n",
        "plt.hist(x, density=True, bins=40)  # density=False would make counts\n",
        "plt.ylabel('Count')\n",
        "plt.xlabel('Language Simirality');"
      ],
      "metadata": {
        "colab": {
          "base_uri": "https://localhost:8080/",
          "height": 280
        },
        "id": "DOeF-hKeU0hj",
        "outputId": "633642e7-65ba-4d97-c2fd-5d311943acd5"
      },
      "execution_count": null,
      "outputs": [
        {
          "output_type": "display_data",
          "data": {
            "text/plain": [
              "<Figure size 432x288 with 1 Axes>"
            ],
            "image/png": "[encoded data removed]"
          },
          "metadata": {
            "needs_background": "light"
          }
        }
      ]
    },
    {
      "cell_type": "code",
      "source": [
        "print('edges: ', len(g_vecs.edges))\n",
        "print('nodes: ', len(g_vecs.nodes))"
      ],
      "metadata": {
        "id": "dRqF0KGPcFfz",
        "colab": {
          "base_uri": "https://localhost:8080/"
        },
        "outputId": "dd25eed4-fab4-42c4-d369-6e2233f2c3e1"
      },
      "execution_count": 32,
      "outputs": [
        {
          "output_type": "stream",
          "name": "stdout",
          "text": [
            "edges:  115921\n",
            "nodes:  481\n"
          ]
        }
      ]
    },
    {
      "cell_type": "markdown",
      "metadata": {
        "id": "1L3lxFrfU57h"
      },
      "source": [
        "## Draw the language network\n",
        "##### I dont even need this"
      ]
    },
    {
      "cell_type": "code",
      "execution_count": null,
      "metadata": {
        "colab": {
          "background_save": true,
          "base_uri": "https://localhost:8080/",
          "height": 1000
        },
        "id": "fytNrDo7C5rd",
        "outputId": "3d912188-6a02-4ff1-987c-011d9fe63104"
      },
      "outputs": [
        {
          "ename": "KeyboardInterrupt",
          "evalue": "ignored",
          "output_type": "error",
          "traceback": [
            "\u001b[0;31m---------------------------------------------------------------------------\u001b[0m",
            "\u001b[0;31mKeyboardInterrupt\u001b[0m                         Traceback (most recent call last)",
            "\u001b[0;32m<ipython-input-30-8820cdad7792>\u001b[0m in \u001b[0;36m<module>\u001b[0;34m()\u001b[0m\n\u001b[1;32m     30\u001b[0m \u001b[0mplt\u001b[0m\u001b[0;34m.\u001b[0m\u001b[0mtight_layout\u001b[0m\u001b[0;34m(\u001b[0m\u001b[0;34m)\u001b[0m\u001b[0;34m\u001b[0m\u001b[0;34m\u001b[0m\u001b[0m\n\u001b[1;32m     31\u001b[0m \u001b[0mplt\u001b[0m\u001b[0;34m.\u001b[0m\u001b[0msavefig\u001b[0m\u001b[0;34m(\u001b[0m\u001b[0;34m'/content/drive/MyDrive/twitter-April20/plot2.png'\u001b[0m\u001b[0;34m)\u001b[0m\u001b[0;34m\u001b[0m\u001b[0;34m\u001b[0m\u001b[0m\n\u001b[0;32m---> 32\u001b[0;31m \u001b[0mplt\u001b[0m\u001b[0;34m.\u001b[0m\u001b[0mshow\u001b[0m\u001b[0;34m(\u001b[0m\u001b[0;34m)\u001b[0m\u001b[0;34m\u001b[0m\u001b[0;34m\u001b[0m\u001b[0m\n\u001b[0m\u001b[1;32m     33\u001b[0m \u001b[0mfig\u001b[0m\u001b[0;34m.\u001b[0m\u001b[0msavefig\u001b[0m\u001b[0;34m(\u001b[0m\u001b[0;34m'figure'\u001b[0m\u001b[0;34m,\u001b[0m \u001b[0mdpi\u001b[0m \u001b[0;34m=\u001b[0m \u001b[0;36m150\u001b[0m\u001b[0;34m)\u001b[0m\u001b[0;34m\u001b[0m\u001b[0;34m\u001b[0m\u001b[0m\n",
            "\u001b[0;32m/usr/local/lib/python3.7/dist-packages/matplotlib/pyplot.py\u001b[0m in \u001b[0;36mshow\u001b[0;34m(*args, **kw)\u001b[0m\n\u001b[1;32m    270\u001b[0m     \"\"\"\n\u001b[1;32m    271\u001b[0m     \u001b[0;32mglobal\u001b[0m \u001b[0m_show\u001b[0m\u001b[0;34m\u001b[0m\u001b[0;34m\u001b[0m\u001b[0m\n\u001b[0;32m--> 272\u001b[0;31m     \u001b[0;32mreturn\u001b[0m \u001b[0m_show\u001b[0m\u001b[0;34m(\u001b[0m\u001b[0;34m*\u001b[0m\u001b[0margs\u001b[0m\u001b[0;34m,\u001b[0m \u001b[0;34m**\u001b[0m\u001b[0mkw\u001b[0m\u001b[0;34m)\u001b[0m\u001b[0;34m\u001b[0m\u001b[0;34m\u001b[0m\u001b[0m\n\u001b[0m\u001b[1;32m    273\u001b[0m \u001b[0;34m\u001b[0m\u001b[0m\n\u001b[1;32m    274\u001b[0m \u001b[0;34m\u001b[0m\u001b[0m\n",
            "\u001b[0;32m/usr/local/lib/python3.7/dist-packages/ipykernel/pylab/backend_inline.py\u001b[0m in \u001b[0;36mshow\u001b[0;34m(close, block)\u001b[0m\n\u001b[1;32m     37\u001b[0m             display(\n\u001b[1;32m     38\u001b[0m                 \u001b[0mfigure_manager\u001b[0m\u001b[0;34m.\u001b[0m\u001b[0mcanvas\u001b[0m\u001b[0;34m.\u001b[0m\u001b[0mfigure\u001b[0m\u001b[0;34m,\u001b[0m\u001b[0;34m\u001b[0m\u001b[0;34m\u001b[0m\u001b[0m\n\u001b[0;32m---> 39\u001b[0;31m                 \u001b[0mmetadata\u001b[0m\u001b[0;34m=\u001b[0m\u001b[0m_fetch_figure_metadata\u001b[0m\u001b[0;34m(\u001b[0m\u001b[0mfigure_manager\u001b[0m\u001b[0;34m.\u001b[0m\u001b[0mcanvas\u001b[0m\u001b[0;34m.\u001b[0m\u001b[0mfigure\u001b[0m\u001b[0;34m)\u001b[0m\u001b[0;34m\u001b[0m\u001b[0;34m\u001b[0m\u001b[0m\n\u001b[0m\u001b[1;32m     40\u001b[0m             )\n\u001b[1;32m     41\u001b[0m     \u001b[0;32mfinally\u001b[0m\u001b[0;34m:\u001b[0m\u001b[0;34m\u001b[0m\u001b[0;34m\u001b[0m\u001b[0m\n",
            "\u001b[0;32m/usr/local/lib/python3.7/dist-packages/IPython/core/display.py\u001b[0m in \u001b[0;36mdisplay\u001b[0;34m(*objs, **kwargs)\u001b[0m\n\u001b[1;32m    304\u001b[0m             \u001b[0mpublish_display_data\u001b[0m\u001b[0;34m(\u001b[0m\u001b[0mdata\u001b[0m\u001b[0;34m=\u001b[0m\u001b[0mobj\u001b[0m\u001b[0;34m,\u001b[0m \u001b[0mmetadata\u001b[0m\u001b[0;34m=\u001b[0m\u001b[0mmetadata\u001b[0m\u001b[0;34m,\u001b[0m \u001b[0;34m**\u001b[0m\u001b[0mkwargs\u001b[0m\u001b[0;34m)\u001b[0m\u001b[0;34m\u001b[0m\u001b[0;34m\u001b[0m\u001b[0m\n\u001b[1;32m    305\u001b[0m         \u001b[0;32melse\u001b[0m\u001b[0;34m:\u001b[0m\u001b[0;34m\u001b[0m\u001b[0;34m\u001b[0m\u001b[0m\n\u001b[0;32m--> 306\u001b[0;31m             \u001b[0mformat_dict\u001b[0m\u001b[0;34m,\u001b[0m \u001b[0mmd_dict\u001b[0m \u001b[0;34m=\u001b[0m \u001b[0mformat\u001b[0m\u001b[0;34m(\u001b[0m\u001b[0mobj\u001b[0m\u001b[0;34m,\u001b[0m \u001b[0minclude\u001b[0m\u001b[0;34m=\u001b[0m\u001b[0minclude\u001b[0m\u001b[0;34m,\u001b[0m \u001b[0mexclude\u001b[0m\u001b[0;34m=\u001b[0m\u001b[0mexclude\u001b[0m\u001b[0;34m)\u001b[0m\u001b[0;34m\u001b[0m\u001b[0;34m\u001b[0m\u001b[0m\n\u001b[0m\u001b[1;32m    307\u001b[0m             \u001b[0;32mif\u001b[0m \u001b[0;32mnot\u001b[0m \u001b[0mformat_dict\u001b[0m\u001b[0;34m:\u001b[0m\u001b[0;34m\u001b[0m\u001b[0;34m\u001b[0m\u001b[0m\n\u001b[1;32m    308\u001b[0m                 \u001b[0;31m# nothing to display (e.g. _ipython_display_ took over)\u001b[0m\u001b[0;34m\u001b[0m\u001b[0;34m\u001b[0m\u001b[0;34m\u001b[0m\u001b[0m\n",
            "\u001b[0;32m/usr/local/lib/python3.7/dist-packages/IPython/core/formatters.py\u001b[0m in \u001b[0;36mformat\u001b[0;34m(self, obj, include, exclude)\u001b[0m\n\u001b[1;32m    171\u001b[0m             \u001b[0mmd\u001b[0m \u001b[0;34m=\u001b[0m \u001b[0;32mNone\u001b[0m\u001b[0;34m\u001b[0m\u001b[0;34m\u001b[0m\u001b[0m\n\u001b[1;32m    172\u001b[0m             \u001b[0;32mtry\u001b[0m\u001b[0;34m:\u001b[0m\u001b[0;34m\u001b[0m\u001b[0;34m\u001b[0m\u001b[0m\n\u001b[0;32m--> 173\u001b[0;31m                 \u001b[0mdata\u001b[0m \u001b[0;34m=\u001b[0m \u001b[0mformatter\u001b[0m\u001b[0;34m(\u001b[0m\u001b[0mobj\u001b[0m\u001b[0;34m)\u001b[0m\u001b[0;34m\u001b[0m\u001b[0;34m\u001b[0m\u001b[0m\n\u001b[0m\u001b[1;32m    174\u001b[0m             \u001b[0;32mexcept\u001b[0m\u001b[0;34m:\u001b[0m\u001b[0;34m\u001b[0m\u001b[0;34m\u001b[0m\u001b[0m\n\u001b[1;32m    175\u001b[0m                 \u001b[0;31m# FIXME: log the exception\u001b[0m\u001b[0;34m\u001b[0m\u001b[0;34m\u001b[0m\u001b[0;34m\u001b[0m\u001b[0m\n",
            "\u001b[0;32m<decorator-gen-2>\u001b[0m in \u001b[0;36m__call__\u001b[0;34m(self, obj)\u001b[0m\n",
            "\u001b[0;32m/usr/local/lib/python3.7/dist-packages/IPython/core/formatters.py\u001b[0m in \u001b[0;36mcatch_format_error\u001b[0;34m(method, self, *args, **kwargs)\u001b[0m\n\u001b[1;32m    215\u001b[0m     \u001b[0;34m\"\"\"show traceback on failed format call\"\"\"\u001b[0m\u001b[0;34m\u001b[0m\u001b[0;34m\u001b[0m\u001b[0m\n\u001b[1;32m    216\u001b[0m     \u001b[0;32mtry\u001b[0m\u001b[0;34m:\u001b[0m\u001b[0;34m\u001b[0m\u001b[0;34m\u001b[0m\u001b[0m\n\u001b[0;32m--> 217\u001b[0;31m         \u001b[0mr\u001b[0m \u001b[0;34m=\u001b[0m \u001b[0mmethod\u001b[0m\u001b[0;34m(\u001b[0m\u001b[0mself\u001b[0m\u001b[0;34m,\u001b[0m \u001b[0;34m*\u001b[0m\u001b[0margs\u001b[0m\u001b[0;34m,\u001b[0m \u001b[0;34m**\u001b[0m\u001b[0mkwargs\u001b[0m\u001b[0;34m)\u001b[0m\u001b[0;34m\u001b[0m\u001b[0;34m\u001b[0m\u001b[0m\n\u001b[0m\u001b[1;32m    218\u001b[0m     \u001b[0;32mexcept\u001b[0m \u001b[0mNotImplementedError\u001b[0m\u001b[0;34m:\u001b[0m\u001b[0;34m\u001b[0m\u001b[0;34m\u001b[0m\u001b[0m\n\u001b[1;32m    219\u001b[0m         \u001b[0;31m# don't warn on NotImplementedErrors\u001b[0m\u001b[0;34m\u001b[0m\u001b[0;34m\u001b[0m\u001b[0;34m\u001b[0m\u001b[0m\n",
            "\u001b[0;32m/usr/local/lib/python3.7/dist-packages/IPython/core/formatters.py\u001b[0m in \u001b[0;36m__call__\u001b[0;34m(self, obj)\u001b[0m\n\u001b[1;32m    332\u001b[0m                 \u001b[0;32mpass\u001b[0m\u001b[0;34m\u001b[0m\u001b[0;34m\u001b[0m\u001b[0m\n\u001b[1;32m    333\u001b[0m             \u001b[0;32melse\u001b[0m\u001b[0;34m:\u001b[0m\u001b[0;34m\u001b[0m\u001b[0;34m\u001b[0m\u001b[0m\n\u001b[0;32m--> 334\u001b[0;31m                 \u001b[0;32mreturn\u001b[0m \u001b[0mprinter\u001b[0m\u001b[0;34m(\u001b[0m\u001b[0mobj\u001b[0m\u001b[0;34m)\u001b[0m\u001b[0;34m\u001b[0m\u001b[0;34m\u001b[0m\u001b[0m\n\u001b[0m\u001b[1;32m    335\u001b[0m             \u001b[0;31m# Finally look for special method names\u001b[0m\u001b[0;34m\u001b[0m\u001b[0;34m\u001b[0m\u001b[0;34m\u001b[0m\u001b[0m\n\u001b[1;32m    336\u001b[0m             \u001b[0mmethod\u001b[0m \u001b[0;34m=\u001b[0m \u001b[0mget_real_method\u001b[0m\u001b[0;34m(\u001b[0m\u001b[0mobj\u001b[0m\u001b[0;34m,\u001b[0m \u001b[0mself\u001b[0m\u001b[0;34m.\u001b[0m\u001b[0mprint_method\u001b[0m\u001b[0;34m)\u001b[0m\u001b[0;34m\u001b[0m\u001b[0;34m\u001b[0m\u001b[0m\n",
            "\u001b[0;32m/usr/local/lib/python3.7/dist-packages/IPython/core/pylabtools.py\u001b[0m in \u001b[0;36m<lambda>\u001b[0;34m(fig)\u001b[0m\n\u001b[1;32m    239\u001b[0m \u001b[0;34m\u001b[0m\u001b[0m\n\u001b[1;32m    240\u001b[0m     \u001b[0;32mif\u001b[0m \u001b[0;34m'png'\u001b[0m \u001b[0;32min\u001b[0m \u001b[0mformats\u001b[0m\u001b[0;34m:\u001b[0m\u001b[0;34m\u001b[0m\u001b[0;34m\u001b[0m\u001b[0m\n\u001b[0;32m--> 241\u001b[0;31m         \u001b[0mpng_formatter\u001b[0m\u001b[0;34m.\u001b[0m\u001b[0mfor_type\u001b[0m\u001b[0;34m(\u001b[0m\u001b[0mFigure\u001b[0m\u001b[0;34m,\u001b[0m \u001b[0;32mlambda\u001b[0m \u001b[0mfig\u001b[0m\u001b[0;34m:\u001b[0m \u001b[0mprint_figure\u001b[0m\u001b[0;34m(\u001b[0m\u001b[0mfig\u001b[0m\u001b[0;34m,\u001b[0m \u001b[0;34m'png'\u001b[0m\u001b[0;34m,\u001b[0m \u001b[0;34m**\u001b[0m\u001b[0mkwargs\u001b[0m\u001b[0;34m)\u001b[0m\u001b[0;34m)\u001b[0m\u001b[0;34m\u001b[0m\u001b[0;34m\u001b[0m\u001b[0m\n\u001b[0m\u001b[1;32m    242\u001b[0m     \u001b[0;32mif\u001b[0m \u001b[0;34m'retina'\u001b[0m \u001b[0;32min\u001b[0m \u001b[0mformats\u001b[0m \u001b[0;32mor\u001b[0m \u001b[0;34m'png2x'\u001b[0m \u001b[0;32min\u001b[0m \u001b[0mformats\u001b[0m\u001b[0;34m:\u001b[0m\u001b[0;34m\u001b[0m\u001b[0;34m\u001b[0m\u001b[0m\n\u001b[1;32m    243\u001b[0m         \u001b[0mpng_formatter\u001b[0m\u001b[0;34m.\u001b[0m\u001b[0mfor_type\u001b[0m\u001b[0;34m(\u001b[0m\u001b[0mFigure\u001b[0m\u001b[0;34m,\u001b[0m \u001b[0;32mlambda\u001b[0m \u001b[0mfig\u001b[0m\u001b[0;34m:\u001b[0m \u001b[0mretina_figure\u001b[0m\u001b[0;34m(\u001b[0m\u001b[0mfig\u001b[0m\u001b[0;34m,\u001b[0m \u001b[0;34m**\u001b[0m\u001b[0mkwargs\u001b[0m\u001b[0;34m)\u001b[0m\u001b[0;34m)\u001b[0m\u001b[0;34m\u001b[0m\u001b[0;34m\u001b[0m\u001b[0m\n",
            "\u001b[0;32m/usr/local/lib/python3.7/dist-packages/IPython/core/pylabtools.py\u001b[0m in \u001b[0;36mprint_figure\u001b[0;34m(fig, fmt, bbox_inches, **kwargs)\u001b[0m\n\u001b[1;32m    123\u001b[0m \u001b[0;34m\u001b[0m\u001b[0m\n\u001b[1;32m    124\u001b[0m     \u001b[0mbytes_io\u001b[0m \u001b[0;34m=\u001b[0m \u001b[0mBytesIO\u001b[0m\u001b[0;34m(\u001b[0m\u001b[0;34m)\u001b[0m\u001b[0;34m\u001b[0m\u001b[0;34m\u001b[0m\u001b[0m\n\u001b[0;32m--> 125\u001b[0;31m     \u001b[0mfig\u001b[0m\u001b[0;34m.\u001b[0m\u001b[0mcanvas\u001b[0m\u001b[0;34m.\u001b[0m\u001b[0mprint_figure\u001b[0m\u001b[0;34m(\u001b[0m\u001b[0mbytes_io\u001b[0m\u001b[0;34m,\u001b[0m \u001b[0;34m**\u001b[0m\u001b[0mkw\u001b[0m\u001b[0;34m)\u001b[0m\u001b[0;34m\u001b[0m\u001b[0;34m\u001b[0m\u001b[0m\n\u001b[0m\u001b[1;32m    126\u001b[0m     \u001b[0mdata\u001b[0m \u001b[0;34m=\u001b[0m \u001b[0mbytes_io\u001b[0m\u001b[0;34m.\u001b[0m\u001b[0mgetvalue\u001b[0m\u001b[0;34m(\u001b[0m\u001b[0;34m)\u001b[0m\u001b[0;34m\u001b[0m\u001b[0;34m\u001b[0m\u001b[0m\n\u001b[1;32m    127\u001b[0m     \u001b[0;32mif\u001b[0m \u001b[0mfmt\u001b[0m \u001b[0;34m==\u001b[0m \u001b[0;34m'svg'\u001b[0m\u001b[0;34m:\u001b[0m\u001b[0;34m\u001b[0m\u001b[0;34m\u001b[0m\u001b[0m\n",
            "\u001b[0;32m/usr/local/lib/python3.7/dist-packages/matplotlib/backend_bases.py\u001b[0m in \u001b[0;36mprint_figure\u001b[0;34m(self, filename, dpi, facecolor, edgecolor, orientation, format, bbox_inches, **kwargs)\u001b[0m\n\u001b[1;32m   2124\u001b[0m                     \u001b[0morientation\u001b[0m\u001b[0;34m=\u001b[0m\u001b[0morientation\u001b[0m\u001b[0;34m,\u001b[0m\u001b[0;34m\u001b[0m\u001b[0;34m\u001b[0m\u001b[0m\n\u001b[1;32m   2125\u001b[0m                     \u001b[0mbbox_inches_restore\u001b[0m\u001b[0;34m=\u001b[0m\u001b[0m_bbox_inches_restore\u001b[0m\u001b[0;34m,\u001b[0m\u001b[0;34m\u001b[0m\u001b[0;34m\u001b[0m\u001b[0m\n\u001b[0;32m-> 2126\u001b[0;31m                     **kwargs)\n\u001b[0m\u001b[1;32m   2127\u001b[0m             \u001b[0;32mfinally\u001b[0m\u001b[0;34m:\u001b[0m\u001b[0;34m\u001b[0m\u001b[0;34m\u001b[0m\u001b[0m\n\u001b[1;32m   2128\u001b[0m                 \u001b[0;32mif\u001b[0m \u001b[0mbbox_inches\u001b[0m \u001b[0;32mand\u001b[0m \u001b[0mrestore_bbox\u001b[0m\u001b[0;34m:\u001b[0m\u001b[0;34m\u001b[0m\u001b[0;34m\u001b[0m\u001b[0m\n",
            "\u001b[0;32m/usr/local/lib/python3.7/dist-packages/matplotlib/backends/backend_agg.py\u001b[0m in \u001b[0;36mprint_png\u001b[0;34m(self, filename_or_obj, metadata, pil_kwargs, *args, **kwargs)\u001b[0m\n\u001b[1;32m    512\u001b[0m         }\n\u001b[1;32m    513\u001b[0m \u001b[0;34m\u001b[0m\u001b[0m\n\u001b[0;32m--> 514\u001b[0;31m         \u001b[0mFigureCanvasAgg\u001b[0m\u001b[0;34m.\u001b[0m\u001b[0mdraw\u001b[0m\u001b[0;34m(\u001b[0m\u001b[0mself\u001b[0m\u001b[0;34m)\u001b[0m\u001b[0;34m\u001b[0m\u001b[0;34m\u001b[0m\u001b[0m\n\u001b[0m\u001b[1;32m    515\u001b[0m         \u001b[0;32mif\u001b[0m \u001b[0mpil_kwargs\u001b[0m \u001b[0;32mis\u001b[0m \u001b[0;32mnot\u001b[0m \u001b[0;32mNone\u001b[0m\u001b[0;34m:\u001b[0m\u001b[0;34m\u001b[0m\u001b[0;34m\u001b[0m\u001b[0m\n\u001b[1;32m    516\u001b[0m             \u001b[0;32mfrom\u001b[0m \u001b[0mPIL\u001b[0m \u001b[0;32mimport\u001b[0m \u001b[0mImage\u001b[0m\u001b[0;34m\u001b[0m\u001b[0;34m\u001b[0m\u001b[0m\n",
            "\u001b[0;32m/usr/local/lib/python3.7/dist-packages/matplotlib/backends/backend_agg.py\u001b[0m in \u001b[0;36mdraw\u001b[0;34m(self)\u001b[0m\n\u001b[1;32m    391\u001b[0m              (self.toolbar._wait_cursor_for_draw_cm() if self.toolbar\n\u001b[1;32m    392\u001b[0m               else nullcontext()):\n\u001b[0;32m--> 393\u001b[0;31m             \u001b[0mself\u001b[0m\u001b[0;34m.\u001b[0m\u001b[0mfigure\u001b[0m\u001b[0;34m.\u001b[0m\u001b[0mdraw\u001b[0m\u001b[0;34m(\u001b[0m\u001b[0mself\u001b[0m\u001b[0;34m.\u001b[0m\u001b[0mrenderer\u001b[0m\u001b[0;34m)\u001b[0m\u001b[0;34m\u001b[0m\u001b[0;34m\u001b[0m\u001b[0m\n\u001b[0m\u001b[1;32m    394\u001b[0m             \u001b[0;31m# A GUI class may be need to update a window using this draw, so\u001b[0m\u001b[0;34m\u001b[0m\u001b[0;34m\u001b[0m\u001b[0;34m\u001b[0m\u001b[0m\n\u001b[1;32m    395\u001b[0m             \u001b[0;31m# don't forget to call the superclass.\u001b[0m\u001b[0;34m\u001b[0m\u001b[0;34m\u001b[0m\u001b[0;34m\u001b[0m\u001b[0m\n",
            "\u001b[0;32m/usr/local/lib/python3.7/dist-packages/matplotlib/artist.py\u001b[0m in \u001b[0;36mdraw_wrapper\u001b[0;34m(artist, renderer, *args, **kwargs)\u001b[0m\n\u001b[1;32m     36\u001b[0m                 \u001b[0mrenderer\u001b[0m\u001b[0;34m.\u001b[0m\u001b[0mstart_filter\u001b[0m\u001b[0;34m(\u001b[0m\u001b[0;34m)\u001b[0m\u001b[0;34m\u001b[0m\u001b[0;34m\u001b[0m\u001b[0m\n\u001b[1;32m     37\u001b[0m \u001b[0;34m\u001b[0m\u001b[0m\n\u001b[0;32m---> 38\u001b[0;31m             \u001b[0;32mreturn\u001b[0m \u001b[0mdraw\u001b[0m\u001b[0;34m(\u001b[0m\u001b[0martist\u001b[0m\u001b[0;34m,\u001b[0m \u001b[0mrenderer\u001b[0m\u001b[0;34m,\u001b[0m \u001b[0;34m*\u001b[0m\u001b[0margs\u001b[0m\u001b[0;34m,\u001b[0m \u001b[0;34m**\u001b[0m\u001b[0mkwargs\u001b[0m\u001b[0;34m)\u001b[0m\u001b[0;34m\u001b[0m\u001b[0;34m\u001b[0m\u001b[0m\n\u001b[0m\u001b[1;32m     39\u001b[0m         \u001b[0;32mfinally\u001b[0m\u001b[0;34m:\u001b[0m\u001b[0;34m\u001b[0m\u001b[0;34m\u001b[0m\u001b[0m\n\u001b[1;32m     40\u001b[0m             \u001b[0;32mif\u001b[0m \u001b[0martist\u001b[0m\u001b[0;34m.\u001b[0m\u001b[0mget_agg_filter\u001b[0m\u001b[0;34m(\u001b[0m\u001b[0;34m)\u001b[0m \u001b[0;32mis\u001b[0m \u001b[0;32mnot\u001b[0m \u001b[0;32mNone\u001b[0m\u001b[0;34m:\u001b[0m\u001b[0;34m\u001b[0m\u001b[0;34m\u001b[0m\u001b[0m\n",
            "\u001b[0;32m/usr/local/lib/python3.7/dist-packages/matplotlib/figure.py\u001b[0m in \u001b[0;36mdraw\u001b[0;34m(self, renderer)\u001b[0m\n\u001b[1;32m   1734\u001b[0m             \u001b[0mself\u001b[0m\u001b[0;34m.\u001b[0m\u001b[0mpatch\u001b[0m\u001b[0;34m.\u001b[0m\u001b[0mdraw\u001b[0m\u001b[0;34m(\u001b[0m\u001b[0mrenderer\u001b[0m\u001b[0;34m)\u001b[0m\u001b[0;34m\u001b[0m\u001b[0;34m\u001b[0m\u001b[0m\n\u001b[1;32m   1735\u001b[0m             mimage._draw_list_compositing_images(\n\u001b[0;32m-> 1736\u001b[0;31m                 renderer, self, artists, self.suppressComposite)\n\u001b[0m\u001b[1;32m   1737\u001b[0m \u001b[0;34m\u001b[0m\u001b[0m\n\u001b[1;32m   1738\u001b[0m             \u001b[0mrenderer\u001b[0m\u001b[0;34m.\u001b[0m\u001b[0mclose_group\u001b[0m\u001b[0;34m(\u001b[0m\u001b[0;34m'figure'\u001b[0m\u001b[0;34m)\u001b[0m\u001b[0;34m\u001b[0m\u001b[0;34m\u001b[0m\u001b[0m\n",
            "\u001b[0;32m/usr/local/lib/python3.7/dist-packages/matplotlib/image.py\u001b[0m in \u001b[0;36m_draw_list_compositing_images\u001b[0;34m(renderer, parent, artists, suppress_composite)\u001b[0m\n\u001b[1;32m    135\u001b[0m     \u001b[0;32mif\u001b[0m \u001b[0mnot_composite\u001b[0m \u001b[0;32mor\u001b[0m \u001b[0;32mnot\u001b[0m \u001b[0mhas_images\u001b[0m\u001b[0;34m:\u001b[0m\u001b[0;34m\u001b[0m\u001b[0;34m\u001b[0m\u001b[0m\n\u001b[1;32m    136\u001b[0m         \u001b[0;32mfor\u001b[0m \u001b[0ma\u001b[0m \u001b[0;32min\u001b[0m \u001b[0martists\u001b[0m\u001b[0;34m:\u001b[0m\u001b[0;34m\u001b[0m\u001b[0;34m\u001b[0m\u001b[0m\n\u001b[0;32m--> 137\u001b[0;31m             \u001b[0ma\u001b[0m\u001b[0;34m.\u001b[0m\u001b[0mdraw\u001b[0m\u001b[0;34m(\u001b[0m\u001b[0mrenderer\u001b[0m\u001b[0;34m)\u001b[0m\u001b[0;34m\u001b[0m\u001b[0;34m\u001b[0m\u001b[0m\n\u001b[0m\u001b[1;32m    138\u001b[0m     \u001b[0;32melse\u001b[0m\u001b[0;34m:\u001b[0m\u001b[0;34m\u001b[0m\u001b[0;34m\u001b[0m\u001b[0m\n\u001b[1;32m    139\u001b[0m         \u001b[0;31m# Composite any adjacent images together\u001b[0m\u001b[0;34m\u001b[0m\u001b[0;34m\u001b[0m\u001b[0;34m\u001b[0m\u001b[0m\n",
            "\u001b[0;32m/usr/local/lib/python3.7/dist-packages/matplotlib/artist.py\u001b[0m in \u001b[0;36mdraw_wrapper\u001b[0;34m(artist, renderer, *args, **kwargs)\u001b[0m\n\u001b[1;32m     36\u001b[0m                 \u001b[0mrenderer\u001b[0m\u001b[0;34m.\u001b[0m\u001b[0mstart_filter\u001b[0m\u001b[0;34m(\u001b[0m\u001b[0;34m)\u001b[0m\u001b[0;34m\u001b[0m\u001b[0;34m\u001b[0m\u001b[0m\n\u001b[1;32m     37\u001b[0m \u001b[0;34m\u001b[0m\u001b[0m\n\u001b[0;32m---> 38\u001b[0;31m             \u001b[0;32mreturn\u001b[0m \u001b[0mdraw\u001b[0m\u001b[0;34m(\u001b[0m\u001b[0martist\u001b[0m\u001b[0;34m,\u001b[0m \u001b[0mrenderer\u001b[0m\u001b[0;34m,\u001b[0m \u001b[0;34m*\u001b[0m\u001b[0margs\u001b[0m\u001b[0;34m,\u001b[0m \u001b[0;34m**\u001b[0m\u001b[0mkwargs\u001b[0m\u001b[0;34m)\u001b[0m\u001b[0;34m\u001b[0m\u001b[0;34m\u001b[0m\u001b[0m\n\u001b[0m\u001b[1;32m     39\u001b[0m         \u001b[0;32mfinally\u001b[0m\u001b[0;34m:\u001b[0m\u001b[0;34m\u001b[0m\u001b[0;34m\u001b[0m\u001b[0m\n\u001b[1;32m     40\u001b[0m             \u001b[0;32mif\u001b[0m \u001b[0martist\u001b[0m\u001b[0;34m.\u001b[0m\u001b[0mget_agg_filter\u001b[0m\u001b[0;34m(\u001b[0m\u001b[0;34m)\u001b[0m \u001b[0;32mis\u001b[0m \u001b[0;32mnot\u001b[0m \u001b[0;32mNone\u001b[0m\u001b[0;34m:\u001b[0m\u001b[0;34m\u001b[0m\u001b[0;34m\u001b[0m\u001b[0m\n",
            "\u001b[0;32m/usr/local/lib/python3.7/dist-packages/matplotlib/axes/_base.py\u001b[0m in \u001b[0;36mdraw\u001b[0;34m(self, renderer, inframe)\u001b[0m\n\u001b[1;32m   2628\u001b[0m             \u001b[0mrenderer\u001b[0m\u001b[0;34m.\u001b[0m\u001b[0mstop_rasterizing\u001b[0m\u001b[0;34m(\u001b[0m\u001b[0;34m)\u001b[0m\u001b[0;34m\u001b[0m\u001b[0;34m\u001b[0m\u001b[0m\n\u001b[1;32m   2629\u001b[0m \u001b[0;34m\u001b[0m\u001b[0m\n\u001b[0;32m-> 2630\u001b[0;31m         \u001b[0mmimage\u001b[0m\u001b[0;34m.\u001b[0m\u001b[0m_draw_list_compositing_images\u001b[0m\u001b[0;34m(\u001b[0m\u001b[0mrenderer\u001b[0m\u001b[0;34m,\u001b[0m \u001b[0mself\u001b[0m\u001b[0;34m,\u001b[0m \u001b[0martists\u001b[0m\u001b[0;34m)\u001b[0m\u001b[0;34m\u001b[0m\u001b[0;34m\u001b[0m\u001b[0m\n\u001b[0m\u001b[1;32m   2631\u001b[0m \u001b[0;34m\u001b[0m\u001b[0m\n\u001b[1;32m   2632\u001b[0m         \u001b[0mrenderer\u001b[0m\u001b[0;34m.\u001b[0m\u001b[0mclose_group\u001b[0m\u001b[0;34m(\u001b[0m\u001b[0;34m'axes'\u001b[0m\u001b[0;34m)\u001b[0m\u001b[0;34m\u001b[0m\u001b[0;34m\u001b[0m\u001b[0m\n",
            "\u001b[0;32m/usr/local/lib/python3.7/dist-packages/matplotlib/image.py\u001b[0m in \u001b[0;36m_draw_list_compositing_images\u001b[0;34m(renderer, parent, artists, suppress_composite)\u001b[0m\n\u001b[1;32m    135\u001b[0m     \u001b[0;32mif\u001b[0m \u001b[0mnot_composite\u001b[0m \u001b[0;32mor\u001b[0m \u001b[0;32mnot\u001b[0m \u001b[0mhas_images\u001b[0m\u001b[0;34m:\u001b[0m\u001b[0;34m\u001b[0m\u001b[0;34m\u001b[0m\u001b[0m\n\u001b[1;32m    136\u001b[0m         \u001b[0;32mfor\u001b[0m \u001b[0ma\u001b[0m \u001b[0;32min\u001b[0m \u001b[0martists\u001b[0m\u001b[0;34m:\u001b[0m\u001b[0;34m\u001b[0m\u001b[0;34m\u001b[0m\u001b[0m\n\u001b[0;32m--> 137\u001b[0;31m             \u001b[0ma\u001b[0m\u001b[0;34m.\u001b[0m\u001b[0mdraw\u001b[0m\u001b[0;34m(\u001b[0m\u001b[0mrenderer\u001b[0m\u001b[0;34m)\u001b[0m\u001b[0;34m\u001b[0m\u001b[0;34m\u001b[0m\u001b[0m\n\u001b[0m\u001b[1;32m    138\u001b[0m     \u001b[0;32melse\u001b[0m\u001b[0;34m:\u001b[0m\u001b[0;34m\u001b[0m\u001b[0;34m\u001b[0m\u001b[0m\n\u001b[1;32m    139\u001b[0m         \u001b[0;31m# Composite any adjacent images together\u001b[0m\u001b[0;34m\u001b[0m\u001b[0;34m\u001b[0m\u001b[0;34m\u001b[0m\u001b[0m\n",
            "\u001b[0;32m/usr/local/lib/python3.7/dist-packages/matplotlib/artist.py\u001b[0m in \u001b[0;36mdraw_wrapper\u001b[0;34m(artist, renderer, *args, **kwargs)\u001b[0m\n\u001b[1;32m     36\u001b[0m                 \u001b[0mrenderer\u001b[0m\u001b[0;34m.\u001b[0m\u001b[0mstart_filter\u001b[0m\u001b[0;34m(\u001b[0m\u001b[0;34m)\u001b[0m\u001b[0;34m\u001b[0m\u001b[0;34m\u001b[0m\u001b[0m\n\u001b[1;32m     37\u001b[0m \u001b[0;34m\u001b[0m\u001b[0m\n\u001b[0;32m---> 38\u001b[0;31m             \u001b[0;32mreturn\u001b[0m \u001b[0mdraw\u001b[0m\u001b[0;34m(\u001b[0m\u001b[0martist\u001b[0m\u001b[0;34m,\u001b[0m \u001b[0mrenderer\u001b[0m\u001b[0;34m,\u001b[0m \u001b[0;34m*\u001b[0m\u001b[0margs\u001b[0m\u001b[0;34m,\u001b[0m \u001b[0;34m**\u001b[0m\u001b[0mkwargs\u001b[0m\u001b[0;34m)\u001b[0m\u001b[0;34m\u001b[0m\u001b[0;34m\u001b[0m\u001b[0m\n\u001b[0m\u001b[1;32m     39\u001b[0m         \u001b[0;32mfinally\u001b[0m\u001b[0;34m:\u001b[0m\u001b[0;34m\u001b[0m\u001b[0;34m\u001b[0m\u001b[0m\n\u001b[1;32m     40\u001b[0m             \u001b[0;32mif\u001b[0m \u001b[0martist\u001b[0m\u001b[0;34m.\u001b[0m\u001b[0mget_agg_filter\u001b[0m\u001b[0;34m(\u001b[0m\u001b[0;34m)\u001b[0m \u001b[0;32mis\u001b[0m \u001b[0;32mnot\u001b[0m \u001b[0;32mNone\u001b[0m\u001b[0;34m:\u001b[0m\u001b[0;34m\u001b[0m\u001b[0;34m\u001b[0m\u001b[0m\n",
            "\u001b[0;32m/usr/local/lib/python3.7/dist-packages/matplotlib/collections.py\u001b[0m in \u001b[0;36mdraw\u001b[0;34m(self, renderer)\u001b[0m\n\u001b[1;32m    367\u001b[0m                 \u001b[0mself\u001b[0m\u001b[0;34m.\u001b[0m\u001b[0m_linewidths\u001b[0m\u001b[0;34m,\u001b[0m \u001b[0mself\u001b[0m\u001b[0;34m.\u001b[0m\u001b[0m_linestyles\u001b[0m\u001b[0;34m,\u001b[0m\u001b[0;34m\u001b[0m\u001b[0;34m\u001b[0m\u001b[0m\n\u001b[1;32m    368\u001b[0m                 \u001b[0mself\u001b[0m\u001b[0;34m.\u001b[0m\u001b[0m_antialiaseds\u001b[0m\u001b[0;34m,\u001b[0m \u001b[0mself\u001b[0m\u001b[0;34m.\u001b[0m\u001b[0m_urls\u001b[0m\u001b[0;34m,\u001b[0m\u001b[0;34m\u001b[0m\u001b[0;34m\u001b[0m\u001b[0m\n\u001b[0;32m--> 369\u001b[0;31m                 self._offset_position)\n\u001b[0m\u001b[1;32m    370\u001b[0m \u001b[0;34m\u001b[0m\u001b[0m\n\u001b[1;32m    371\u001b[0m         \u001b[0mgc\u001b[0m\u001b[0;34m.\u001b[0m\u001b[0mrestore\u001b[0m\u001b[0;34m(\u001b[0m\u001b[0;34m)\u001b[0m\u001b[0;34m\u001b[0m\u001b[0;34m\u001b[0m\u001b[0m\n",
            "\u001b[0;32m/usr/local/lib/python3.7/dist-packages/matplotlib/path.py\u001b[0m in \u001b[0;36mvertices\u001b[0;34m(self)\u001b[0m\n\u001b[1;32m    195\u001b[0m         )\n\u001b[1;32m    196\u001b[0m \u001b[0;34m\u001b[0m\u001b[0m\n\u001b[0;32m--> 197\u001b[0;31m     \u001b[0;34m@\u001b[0m\u001b[0mproperty\u001b[0m\u001b[0;34m\u001b[0m\u001b[0;34m\u001b[0m\u001b[0m\n\u001b[0m\u001b[1;32m    198\u001b[0m     \u001b[0;32mdef\u001b[0m \u001b[0mvertices\u001b[0m\u001b[0;34m(\u001b[0m\u001b[0mself\u001b[0m\u001b[0;34m)\u001b[0m\u001b[0;34m:\u001b[0m\u001b[0;34m\u001b[0m\u001b[0;34m\u001b[0m\u001b[0m\n\u001b[1;32m    199\u001b[0m         \"\"\"\n",
            "\u001b[0;31mKeyboardInterrupt\u001b[0m: "
          ]
        }
      ],
      "source": [
        "# I wanted to draw g but there might be a problem with the weights\n",
        "# so I chosed the edge colors with g and drew g2 with that list\n",
        "import matplotlib.pyplot as plt\n",
        "\n",
        "elarge = [(u, v) for (u, v, d) in g_vecs.edges(data=True) if d[\"weight\"] > average_weight or d['weight'] == INF]\n",
        "esmall = [(u, v) for (u, v, d) in g_vecs.edges(data=True) if d[\"weight\"] <= average_weight and  d['weight'] != INF]\n",
        "# print(len(elarge))\n",
        "# print(len(esmall))\n",
        "# print(len(elarge)+len(esmall)) ## WHY THIS IS NOT EQUAL TO LEN(EDGES)?\n",
        "pos = nx.spring_layout(g_vecs,seed=7)  # positions for all nodes - seed for reproducibility\n",
        "\n",
        "# nodes\n",
        "nx.draw_networkx_nodes(g_vecs, pos, node_size=7, node_color='w')\n",
        "\n",
        "# edges\n",
        "nx.draw_networkx_edges(g_vecs, pos, edgelist=elarge, width=0.01, edge_color='r')\n",
        "nx.draw_networkx_edges(\n",
        "    g_vecs, pos, edgelist=esmall, width=0.006, alpha=0.5, edge_color=\"b\", style=\"dashed\"\n",
        ")\n",
        "\n",
        "# labels\n",
        "# nx.draw_networkx_labels(G, pos, font_size=20, font_family=\"sans-serif\")\n",
        "fig = plt.figure()\n",
        "\n",
        "ax = plt.gca()\n",
        "plt.figure(figsize=(15,7.5),dpi=80) \n",
        "ax.margins(0.08)\n",
        "plt.axis(\"off\")\n",
        "# plt.draw()\n",
        "plt.tight_layout()\n",
        "plt.savefig('/content/drive/MyDrive/twitter-April20/plot2.png')\n",
        "plt.show()\n",
        "fig.savefig('figure', dpi = 150)"
      ]
    },
    {
      "cell_type": "code",
      "execution_count": null,
      "metadata": {
        "colab": {
          "base_uri": "https://localhost:8080/",
          "height": 34
        },
        "id": "m6wVTmDWSy6w",
        "outputId": "b90631b6-f09b-4118-8080-3c2bac7782db"
      },
      "outputs": [
        {
          "data": {
            "text/plain": [
              "<Figure size 432x288 with 0 Axes>"
            ]
          },
          "metadata": {},
          "output_type": "display_data"
        }
      ],
      "source": [
        "plt.savefig('/content/drive/MyDrive/twitter-April20/plot2.png')"
      ]
    },
    {
      "cell_type": "markdown",
      "metadata": {
        "id": "dw2Xdn2CxKCe"
      },
      "source": [
        "## Load the data of your friends and their friends"
      ]
    },
    {
      "cell_type": "code",
      "execution_count": null,
      "metadata": {
        "id": "6ipzw7t4FKO8"
      },
      "outputs": [],
      "source": [
        "import networkx as nx"
      ]
    },
    {
      "cell_type": "code",
      "execution_count": null,
      "metadata": {
        "id": "P6c6lRh-FKO9"
      },
      "outputs": [],
      "source": [
        "import pickle\n",
        "with open(\"/content/drive/MyDrive/twitter-April20/sahar_following_data-20220420\", \"rb\") as fp:   # Unpickling\n",
        "  sahar = pickle.load(fp)"
      ]
    },
    {
      "cell_type": "code",
      "execution_count": null,
      "metadata": {
        "colab": {
          "base_uri": "https://localhost:8080/"
        },
        "id": "gF_S8UAoFrhb",
        "outputId": "ec9f1f56-79f9-4f08-a85b-321274a06015"
      },
      "outputs": [
        {
          "output_type": "stream",
          "name": "stdout",
          "text": [
            "['865981751444852736_following_data', '724963088286502912_following_data', '1020607462804795393_following_data', '1339288641789628422_following_data', '868167946505474050_following_data', '1356233634789924864_following_data', '18065266_following_data', '1002967767635677184_following_data', '845228209578872832_following_data', '900895135_following_data', '64705947_following_data', '1266258111397912576_following_data', '1030026976164229120_following_data', '1201169360485830657_following_data', '359022772_following_data', '2568319752_following_data', '1034137009189732352_following_data', '891016261077004288_following_data', '1508880748517810185_following_data', '1464993254215147520_following_data', '1069982011593494529_following_data', '3351632566_following_data', '3046283561_following_data', '986561881426006016_following_data', '983295355545702400_following_data', '463069566_following_data', '850946423474405377_following_data', '1455550333107773446_following_data', '1602489714_following_data', '735602559730225152_following_data', '732317113092689920_following_data', '716703706591268864_following_data', '715270940687409152_following_data', '433464599_following_data', '3278927989_following_data', '380958063_following_data', '1269369539986362368_following_data', '1247873570535100416_following_data', '1117508407420911616_following_data', '1358767442256928770_following_data', '877498801673707520_following_data', '1521512468_following_data', '1504417158977183749_following_data', '1327938930415644672_following_data', '805438647923253248_following_data', '1269438396096819202_following_data', '88421403_following_data', '1458891868557783045_following_data', '2202008407_following_data', '471996981_following_data', '349788190_following_data', '47087325_following_data', '539210871_following_data', '3851000734_following_data', '1116000415_following_data', '1528946690_following_data', '1488133316763168770_following_data', '62634095_following_data', '853662554492735488_following_data', '1377326452463505411_following_data', '1206893149790121984_following_data', '1082679906138537985_following_data', '1101860432145465344_following_data', '244661584_following_data', '2858397523_following_data', '1469029386129223689_following_data', '1340683845935509504_following_data', '1296728449277661186_following_data', '1249030533608341504_following_data', '822852626937249796_following_data', '1495437972304498704_following_data', '777558264250789889_following_data', '1347997588121915392_following_data', '872808820992593921_following_data', '930621247288893441_following_data', '848077718105321474_following_data', '260112385_following_data', '1429914974047121411_following_data', '934553120_following_data', '1250629371536322561_following_data', '1717970095_following_data', '742904845_following_data', '492409097_following_data', '1396885755687890948_following_data', '958415881905885185_following_data', '794253211767078912_following_data', '2710980058_following_data', '885038084387217409_following_data', '1450845340610015246_following_data', '920321459842699266_following_data', '1318919086441664512_following_data', '1459461665695703042_following_data', '806244423961104388_following_data', '832939634_following_data', '1198579916524204032_following_data', '670643_following_data', '1358090743462699010_following_data', '1227498457780244481_following_data', '886694952767545344_following_data', '887600382091943936_following_data', '1430407047573610496_following_data', '1490594778865704961_following_data', '3786192017_following_data', '3897942340_following_data', '753712055870291968_following_data', '1488087210897420288_following_data', '879068691635331073_following_data', '1416091012104077315_following_data', '488943769_following_data', '4156826357_following_data', '631001987_following_data', '1288147083711717376_following_data', '1680458172_following_data', '868120369772802052_following_data', '2300349499_following_data', '964546318885584896_following_data', '3131833462_following_data', '1469730860584902657_following_data', '2859633467_following_data', '1327191777439309825_following_data', '719125992_following_data', '2714211393_following_data', '1367918427130695681_following_data', '4139825781_following_data', '1228035114_following_data', '890873331959963650_following_data', '1454951991382351876_following_data', '1278273703067947008_following_data', '1207362189650268161_following_data', '4471021756_following_data', '712662903959199745_following_data', '2401510724_following_data', '756553320_following_data', '616742267_following_data', '1357216703411752960_following_data', '43758148_following_data', '1316018388813058048_following_data', '740773725868593152_following_data', '1383274671181758464_following_data', '818882986460454913_following_data', '47918373_following_data', '1299988430374535170_following_data', '1071142638538162176_following_data', '760485787087597569_following_data', '1009311576_following_data', '4171469573_following_data', '1100927167_following_data', '1463966480777814017_following_data', '1451336095900311553_following_data', '4603641321_following_data', '1459814628985384964_following_data', '736465513019232256_following_data', '701096366249009152_following_data', '588621856_following_data', '1459029798081155072_following_data', '1359828784623542276_following_data', '1455585428669706241_following_data', '2796681558_following_data', '756623112528068609_following_data', '1115545199827214336_following_data', '868102490339889153_following_data', '18161768_following_data', '1029828901281980421_following_data', '2258679926_following_data', '899236343968038912_following_data', '903663288772435969_following_data', '1214709944349548545_following_data', '1409991821653069824_following_data', '1453784215300886533_following_data', '1451263987912519681_following_data', '1177553181498363905_following_data', '1003722488721928192_following_data', '634771203_following_data', '990482615500189696_following_data', '305066053_following_data', '2237397852_following_data', '1429267303875624960_following_data', '44616776_following_data', '1217103012533088256_following_data', '1581289837_following_data', '1171466825806340096_following_data', '952250805276631040_following_data', '1344553210044968961_following_data', '321428946_following_data', '1431896264313122819_following_data', '1291920049_following_data', '2417911082_following_data', '2581813465_following_data', '1159910506892804099_following_data', '999944506668707841_following_data', '903550416394313728_following_data', '404867122_following_data', '948104580717355008_following_data', '731066315897626625_following_data', '993049181907509249_following_data', '863616442297720834_following_data', '3183747179_following_data', '1095354256180346882_following_data', '1432654502562238469_following_data', '1279858901492666369_following_data', '1247987590873178114_following_data', '1125158499061727233_following_data', '990553932123566080_following_data', '1368148086598565893_following_data', '2737247027_following_data', '1362190658900029442_following_data', '1398706756260438019_following_data', '1317885479371624454_following_data', '1443680520_following_data', '1035800359065870337_following_data', '960843947890364417_following_data', '1315381340573970433_following_data', '921155819856592902_following_data', '956802749215268864_following_data', '1605911497_following_data', '999616031877365760_following_data', '1410404069613711371_following_data', '865193210217463808_following_data', '920236804095307776_following_data', '1089969979_following_data', '991233558466396160_following_data', '1428215156656545794_following_data', '1375402143050514433_following_data', '1317579785556688904_following_data', '1425086386898718721_following_data', '1385581760109481986_following_data', '1292808090488918016_following_data', '828886863733719040_following_data', '1420039491633524742_following_data', '822936758862094336_following_data', '840661613258526720_following_data', '879806674147717120_following_data', '852834233072492544_following_data', '1163742798216073216_following_data', '19761241_following_data', '46452468_following_data', '721547055273873409_following_data', '1354775736775827458_following_data', '1214597623862235136_following_data', '938800697092526080_following_data', '2893058174_following_data', '822885465913180166_following_data', '4725324385_following_data', '1414665525779705864_following_data', '47920498_following_data', '806791444983738371_following_data', '998955143612846080_following_data', '1215183694840893441_following_data', '171682388_following_data', '885604651919433730_following_data', '1254372302633840641_following_data', '1408810306349027328_following_data', '790299720417705984_following_data', '766370506928947201_following_data', '410082955_following_data', '588950217_following_data', '439324615_following_data', '290090710_following_data', '3284176898_following_data', '907605566498865152_following_data', '965535576492474368_following_data', '786154943375966208_following_data', '1180885173472301056_following_data', '3114219783_following_data', '1114539047307882497_following_data', '837283856722055168_following_data', '815283107104518144_following_data', '14897852_following_data', '781025375480647680_following_data', '937499232_following_data', '2394936542_following_data', '1203448164885381121_following_data', '1256082462062469125_following_data', '768418701574074368_following_data', '3490977974_following_data', '982542536052039680_following_data', '762709512285487105_following_data', '1968654211_following_data', '3694288522_following_data', '3392067011_following_data', '1044844628002959363_following_data', '1184519694981697540_following_data', '836566379868323841_following_data', '888634291_following_data', '4482675135_following_data', '224635989_following_data', '1266123262557290502_following_data', '1283846803532677121_following_data', '1233194297928933377_following_data', '1389510720_following_data', '529355905_following_data', '3408618683_following_data', '2320505144_following_data', '219946008_following_data', '1234809884052340737_following_data', '3145962122_following_data', '751321916_following_data', '1385112527428849665_following_data', '1161389139926929409_following_data', '949704621026697217_following_data', '931234766359277568_following_data', '3752170468_following_data', '1371090663182319622_following_data', '1215922821198761984_following_data', '1134878660_following_data', '3842336242_following_data', '1340162604925390849_following_data', '782924721167806464_following_data', '1378040920797540356_following_data', '170702178_following_data', '2526634164_following_data', '1132371433462611968_following_data', '2843688968_following_data', '738355536282955778_following_data', '833314858586296322_following_data', '3293348257_following_data', '1366475216243875841_following_data', '502055099_following_data', '738453066341441536_following_data', '716287982475423744_following_data', '904804123731607553_following_data', '1213061914382614529_following_data', '769185082905075712_following_data', '1337101859983663106_following_data', '2696461478_following_data', '1034678760694575104_following_data', '803565160585711616_following_data', '415121318_following_data', '1283465990790144001_following_data', '3222259102_following_data', '858699998120353792_following_data', '1328575941732347904_following_data', '835864151687905280_following_data', '1360017305086922753_following_data', '4435887317_following_data', '105020773_following_data', '782600978_following_data', '811888996246843393_following_data', '1362035021574529024_following_data', '2268886735_following_data', '981887678345043968_following_data', '1307958578972631040_following_data', '3375509225_following_data', '4841459740_following_data', '44732944_following_data', '1001479650311360512_following_data', '1250731132703903749_following_data', '986175187233230848_following_data', '1307940930012422144_following_data', '808317071146754048_following_data', '3086210046_following_data', '1336335446540881923_following_data', '1150118866565173249_following_data', '1305943127904063488_following_data', '1342218236960522240_following_data', '1129633623802548226_following_data', '599001467_following_data', '3274727971_following_data', '876100034638610433_following_data', '1095960093294768133_following_data', '966776088834838532_following_data', '518367176_following_data', '1240778374907338752_following_data', '1311939752900341760_following_data', '130745589_following_data', '1024081264503083009_following_data', '216939636_following_data', '861623941558915073_following_data', '1094567498886848513_following_data', '799783962_following_data', '1014051789015060480_following_data', '16090599_following_data', '1026548827602518016_following_data', '1329095129781710850_following_data', '1309358932780036096_following_data', '703017859_following_data', '1292859771704561664_following_data', '914088989317099522_following_data', '1281863952956178432_following_data', '3316719763_following_data', '1104745584479621121_following_data', '1292546173346156544_following_data', '1084560095026036738_following_data', '2525635519_following_data', '2527339285_following_data', '708358425030172672_following_data', '567217419_following_data', '3879841582_following_data', '2823297072_following_data', '1435401206_following_data', '794150109969784832_following_data', '881415051499974656_following_data', '737237744410341376_following_data', '1209036035650457600_following_data', '4359739395_following_data', '1040689037160460288_following_data', '45387857_following_data', '1204426308677181440_following_data', '1228352526216507397_following_data', '845255845697011712_following_data', '2557393242_following_data', '1119881755367026698_following_data', '875106253214822400_following_data', '1214796326623490048_following_data', '1301251571985059841_following_data', '1302267965740638217_following_data', '851416634678018048_following_data', '804627680733917184_following_data', '3046783869_following_data', '1266038663961600003_following_data', '2748196759_following_data', '222596437_following_data', '1138625939603152897_following_data', '1226246361596747776_following_data', '1128692807017926662_following_data', '856133308446642178_following_data', '1297635071697051648_following_data', '1300542545777352707_following_data', '1225427022052196353_following_data', '1224019578222759936_following_data', '1002529816896208897_following_data', '4728450734_following_data', '1106957614343221250_following_data', '1285966625162895362_following_data', '1290778231604486145_following_data', '1107587723249045505_following_data', '2393121294_following_data', '1287837704957329410_following_data', '1136977758096187393_following_data', '1139062512018763776_following_data', '883066629872996352_following_data', '345370226_following_data', '1208210978879332352_following_data', '1114446189838196736_following_data', '1002674333259530240_following_data', '1027300137935298579_following_data', '1160914226132717568_following_data', '823555885_following_data', '769092891373371392_following_data', '1052035761917349888_following_data', '918163711004614656_following_data', '1273207011983982592_following_data', '857547727177207808_following_data', '1201218378066735106_following_data', '1563144092_following_data', '819615408_following_data', '3317204509_following_data', '872481400263520256_following_data', '1250938981962911746_following_data', '3283312765_following_data', '2510650289_following_data', '1002509156132315136_following_data', '742304072691224576_following_data', '29242038_following_data', '1029081958951862272_following_data', '1047160747_following_data', '16134412_following_data', '824293957639303173_following_data', '1216757211847974914_following_data', '2577471638_following_data', '2946342766_following_data', '889846026475106304_following_data', '337285263_following_data', '4587279797_following_data', '722449771768582144_following_data', '1094744424612052992_following_data', '593723600_following_data', '857935561851412482_following_data', '809035184725069825_following_data', '892669621886742528_following_data', '818682294525366273_following_data', '947547031978967040_following_data', '1005429553261694976_following_data', '766373929556598784_following_data', '243535485_following_data', '1066402673438666752_following_data', '1067674815706906629_following_data', '3249561745_following_data', '1249482455226056706_following_data', '1248564041062084608_following_data', '1235747163424149504_following_data', '1236949283976482817_following_data', '1093204704287436801_following_data', '2923624261_following_data', '1227950975849246720_following_data', '1230906864461918208_following_data', '926009729050136576_following_data', '1099752390369132544_following_data', '1234589947568492544_following_data', '1234940503214510091_following_data', '927192606869778432_following_data', '1108503340500090890_following_data', '1083102915487846401_following_data', '753712504711282688_following_data', '1173895113828904960_following_data', '1039446544972431360_following_data', '1138394623418818560_following_data', '1172965158332841985_following_data', '3839495532_following_data', '963436793277403138_following_data', '714591154138914816_following_data', '1206649749492944896_following_data', '2246062845_following_data', '1635719053_following_data', '2263423585_following_data', '862982133924626432_following_data', '981905894295392256_following_data', '929661682632351744_following_data', '1209135981850439681_following_data', '1150775367835312128_following_data', '1092853471030767616_following_data', '876176812660994049_following_data', '1153276870726684672_following_data', '1137103826274738182_following_data', '885126336649580545_following_data', '1010854626885849088_following_data', '1185985240902361088_following_data', '2334030750_following_data', '1062604068_following_data', '1181481358406901760_following_data', '1181165948260306945_following_data', '1146496404480778240_following_data', '1160437201907437569_following_data', '1180097010818519045_following_data', '1701939020_following_data', '1173948102417321986_following_data', '1052525661812916229_following_data', '960868954251120641_following_data', '1173909274264834048_following_data', '743437350865231874_following_data', '110298748_following_data', '1165330009097146369_following_data', '1120570141211811842_following_data', '847474051475832832_following_data', '929774535678738432_following_data', '328116521_following_data', '865779866012200960_following_data', '1155357467775291392_following_data', '959113366982848512_following_data', '1015200581101727744_following_data', '1149606712137191424_following_data', '2214038774_following_data', '1149973316708511744_following_data', '858010381960269824_following_data', '949932516332523521_following_data', '826400587524689925_following_data', '953646547299962880_following_data', '782585724_following_data', '776515237558292480_following_data', '1001843206705860609_following_data', '568833316_following_data', '720911881_following_data', '917037527239938048_following_data', '919709012408651776_following_data', '724449128_following_data', '365720282_following_data', '950742766518259712_following_data', '4758856154_following_data', '856828128240578560_following_data', '785739567815155714_following_data', '1120225213562617856_following_data', '395513033_following_data', '1108507036738863105_following_data', '1032480525653618690_following_data', '3032393934_following_data', '834742574_following_data', '928666732570513408_following_data', '762686714657837056_following_data', '1102291427193733125_following_data', '856717548410343424_following_data', '1105109923061481472_following_data', '1007879112902561792_following_data', '741947563855745024_following_data', '4717658005_following_data', '827627287390466049_following_data', '1105014190299729920_following_data', '758204076396085248_following_data', '900768749254574083_following_data', '2851146472_following_data', '799500708412354560_following_data', '1084463164614414341_following_data', '332197600_following_data', '516759869_following_data', '756958506_following_data', '820108560625528832_following_data', '1094225859265744896_following_data', '1090244113763573760_following_data', '1031567842943152132_following_data', '3391570883_following_data', '852402606295195648_following_data', '1647584754_following_data', '1072211495822520321_following_data', '711168122120773632_following_data', '714908164915916802_following_data', '1084679973636517889_following_data', '4031590713_following_data', '938370774225780736_following_data', '300789599_following_data', '2852046682_following_data', '875438132_following_data', '585020613_following_data', '852851650389782528_following_data', '238829525_following_data', '1021677975304122368_following_data', '603495499_following_data', '4450108659_following_data', '728914561462603776_following_data', '1060165605616205824_following_data', '1070717238645350400_following_data', '1065633027445977088_following_data', '999910434613346304_following_data', '327853864_following_data', '1062461942718230534_following_data', '1490274181_following_data', '875459617_following_data', '1061967100409978880_following_data', '889315416_following_data', '1059399227313475584_following_data', '835500600817115136_following_data', '222431881_following_data', '953280253983645696_following_data', '1053403820867371008_following_data', '4860742577_following_data', '948999923613171713_following_data', '711247224932581376_following_data', '122418331_following_data', '967912314_following_data', '1048158315044360192_following_data', '958726636890882048_following_data', '1046722380167598081_following_data', '1041994486497333250_following_data', '995720192_following_data', '395211077_following_data', '3606473055_following_data', '711150176_following_data', '876037395619172352_following_data', '410078174_following_data', '944617099170852864_following_data', '754182142305927168_following_data', '1041047065516683265_following_data', '852495628403978241_following_data', '2866895386_following_data', '1929901087_following_data', '3987672794_following_data', '893782653014507520_following_data', '989251630204948480_following_data', '981185460465741824_following_data', '940975084822564864_following_data', '1014974858034405377_following_data', '1013058040428449798_following_data', '2391382578_following_data', '884494448343863297_following_data', '1016947138968870912_following_data', '2246621591_following_data', '1015546561059872768_following_data', '940424146273611776_following_data', '954275953336881152_following_data', '452117741_following_data', '930171184469237761_following_data', '931978479867957251_following_data', '4718091395_following_data', '915202539167109126_following_data', '2491295011_following_data', '907930870333558784_following_data', '880822077544177666_following_data', '823141807_following_data', '46093375_following_data', '875637705979314177_following_data', '246947941_following_data', '1596377996_following_data', '786213221531353093_following_data', '874246768296427520_following_data', '729384761156866050_following_data', '4878404573_following_data', '826703903873966080_following_data', '866987004306874370_following_data', '861172616794701826_following_data', '863346415178788864_following_data', '3377093163_following_data', '1646169098_following_data', '862760815920902144_following_data', '861653502946398208_following_data', '833606731087409152_following_data', '630199052_following_data', '754826845875539968_following_data', '1312820274_following_data', '4839508725_following_data', '826406054636425216_following_data', '810730157010927616_following_data', '4906563567_following_data', '4835841857_following_data', '2575491582_following_data', '1638277826_following_data', '573843309_following_data', '2967270576_following_data', '2652326853_following_data']\n"
          ]
        }
      ],
      "source": [
        "import os\n",
        "path = '/content/drive/MyDrive/twitter-April20/data/'\n",
        "files = [file for file in os.listdir(path)]\n",
        "print(files)"
      ]
    },
    {
      "cell_type": "markdown",
      "source": [
        "## Create the graph of your friends"
      ],
      "metadata": {
        "id": "6sT9H4V9FBq1"
      }
    },
    {
      "cell_type": "code",
      "execution_count": 41,
      "metadata": {
        "id": "XGuYCJ_Q_Yqm",
        "colab": {
          "base_uri": "https://localhost:8080/"
        },
        "outputId": "cc54bdc9-d020-4290-9fa9-2cc0eac264c2"
      },
      "outputs": [
        {
          "output_type": "execute_result",
          "data": {
            "text/plain": [
              "698"
            ]
          },
          "metadata": {},
          "execution_count": 41
        }
      ],
      "source": [
        "len(sahar)"
      ]
    },
    {
      "cell_type": "code",
      "execution_count": 62,
      "metadata": {
        "id": "FbZA75EIGat2"
      },
      "outputs": [],
      "source": [
        "g_fr = nx.Graph()\n",
        "for file in files:\n",
        "  id = file.split(sep='_')[0]\n",
        "  if id in map(str, uniques):\n",
        "    with open(\"/content/drive/MyDrive/twitter-April20/data/{}\".format(file), \"rb\") as fp:\n",
        "      friends = pickle.load(fp)\n",
        "    for friend in friends:\n",
        "      if friend in uniques:\n",
        "        g_fr.add_edge(id, str(friend))"
      ]
    },
    {
      "cell_type": "code",
      "source": [
        "type(friend)"
      ],
      "metadata": {
        "colab": {
          "base_uri": "https://localhost:8080/"
        },
        "id": "-gq9snZwQnv5",
        "outputId": "7b0d1c50-87da-4287-80d5-5b03437a0794"
      },
      "execution_count": 60,
      "outputs": [
        {
          "output_type": "execute_result",
          "data": {
            "text/plain": [
              "int"
            ]
          },
          "metadata": {},
          "execution_count": 60
        }
      ]
    },
    {
      "cell_type": "code",
      "execution_count": 59,
      "metadata": {
        "colab": {
          "base_uri": "https://localhost:8080/"
        },
        "id": "rBRAkzh8JeJ9",
        "outputId": "40c56a2e-78c1-4015-beae-8078add2b886"
      },
      "outputs": [
        {
          "output_type": "stream",
          "name": "stdout",
          "text": [
            "edges:  0\n",
            "nodes:  0\n"
          ]
        }
      ],
      "source": [
        "print('edges: ', len(g_fr.edges))\n",
        "print('nodes: ', len(g_fr.nodes))"
      ]
    },
    {
      "cell_type": "code",
      "execution_count": 52,
      "metadata": {
        "colab": {
          "base_uri": "https://localhost:8080/"
        },
        "id": "9uZZfkFvSeMg",
        "outputId": "61b1d482-d59e-4e7f-ee91-4ebf050b13c8"
      },
      "outputs": [
        {
          "output_type": "execute_result",
          "data": {
            "text/plain": [
              "int"
            ]
          },
          "metadata": {},
          "execution_count": 52
        }
      ],
      "source": [
        ""
      ]
    },
    {
      "cell_type": "code",
      "execution_count": null,
      "metadata": {
        "colab": {
          "background_save": true
        },
        "id": "U-KmOdC_ce8r"
      },
      "outputs": [],
      "source": [
        ""
      ]
    }
  ],
  "metadata": {
    "colab": {
      "collapsed_sections": [
        "ZQp_SBIDwzqg",
        "BxXSklbLk41F",
        "1L3lxFrfU57h",
        "dw2Xdn2CxKCe"
      ],
      "name": "SocialNetXNLP.ipynb",
      "provenance": [],
      "mount_file_id": "1YHcCftzih1azH8jBP9gR0W3GFK62_o5X",
      "authorship_tag": "ABX9TyOz9SeuVyTwmHp/sh7ALimZ",
      "include_colab_link": true
    },
    "kernelspec": {
      "display_name": "Python 3",
      "name": "python3"
    },
    "language_info": {
      "name": "python"
    }
  },
  "nbformat": 4,
  "nbformat_minor": 0
}